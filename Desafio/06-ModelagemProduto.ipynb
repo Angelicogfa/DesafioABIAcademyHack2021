{
 "cells": [
  {
   "cell_type": "markdown",
   "metadata": {},
   "source": [
    "# Modelagem\n",
    "\n",
    "Este notebook tem como objetivo criar o modelo que fará a previsão de novos produtos similares ao produto"
   ]
  },
  {
   "cell_type": "markdown",
   "metadata": {},
   "source": [
    "## Importação"
   ]
  },
  {
   "cell_type": "code",
   "execution_count": 1,
   "metadata": {},
   "outputs": [],
   "source": [
    "import pickle\n",
    "import pandas as pd\n",
    "import seaborn as sns\n",
    "import matplotlib.pyplot as plt\n",
    "from sklearn.feature_extraction.text import TfidfVectorizer\n",
    "from sklearn.preprocessing import LabelEncoder, MinMaxScaler\n",
    "from sklearn.model_selection import train_test_split\n",
    "\n",
    "plt.style.use('ggplot')"
   ]
  },
  {
   "cell_type": "markdown",
   "metadata": {},
   "source": [
    "## Leitura dos datasets\n",
    "\n",
    "* produto_data.csv: Contém os dados do dataset original, contendo apenas as linhas dos produtos, com as informações adicionais de **cluster** e **de_para**\n",
    "* produto_modelo.csv: Contém o a base do dataset **produto_data** com apenas as colunas pré-filtradas, já aplicados as tratativas de LabelEncoder e StandardScale além da concatenação dos dados das caracteristicas textuais extraidas via scraping."
   ]
  },
  {
   "cell_type": "code",
   "execution_count": 2,
   "metadata": {},
   "outputs": [
    {
     "data": {
      "text/html": [
       "<div>\n",
       "<style scoped>\n",
       "    .dataframe tbody tr th:only-of-type {\n",
       "        vertical-align: middle;\n",
       "    }\n",
       "\n",
       "    .dataframe tbody tr th {\n",
       "        vertical-align: top;\n",
       "    }\n",
       "\n",
       "    .dataframe thead th {\n",
       "        text-align: right;\n",
       "    }\n",
       "</style>\n",
       "<table border=\"1\" class=\"dataframe\">\n",
       "  <thead>\n",
       "    <tr style=\"text-align: right;\">\n",
       "      <th></th>\n",
       "      <th>PedidoProdutoId</th>\n",
       "      <th>ProdutoMarca</th>\n",
       "      <th>ProdutoSubmarca</th>\n",
       "      <th>ProdutoSegmento2</th>\n",
       "      <th>ProdutoTipoContainer</th>\n",
       "      <th>ProdutoTamanhoContainer</th>\n",
       "      <th>ProdutoVariedade</th>\n",
       "      <th>ProdutoSegmento1</th>\n",
       "      <th>ProdutoPercentAlcoolico</th>\n",
       "      <th>cluster</th>\n",
       "      <th>de_para</th>\n",
       "      <th>cluster_caracteristica</th>\n",
       "    </tr>\n",
       "  </thead>\n",
       "  <tbody>\n",
       "    <tr>\n",
       "      <th>0</th>\n",
       "      <td>10946</td>\n",
       "      <td>LEFFE</td>\n",
       "      <td>LEFFE BLONDE</td>\n",
       "      <td>Spécialités</td>\n",
       "      <td>PERFECT DRAFT</td>\n",
       "      <td>6.0</td>\n",
       "      <td>Blonde</td>\n",
       "      <td>PREMIUM</td>\n",
       "      <td>6.6</td>\n",
       "      <td>4</td>\n",
       "      <td>LEFFE</td>\n",
       "      <td>3</td>\n",
       "    </tr>\n",
       "    <tr>\n",
       "      <th>1</th>\n",
       "      <td>19898</td>\n",
       "      <td>NaN</td>\n",
       "      <td>NaN</td>\n",
       "      <td>NaN</td>\n",
       "      <td>NaN</td>\n",
       "      <td>0.0</td>\n",
       "      <td>NaN</td>\n",
       "      <td>NaN</td>\n",
       "      <td>5.0</td>\n",
       "      <td>0</td>\n",
       "      <td>ADRIATICA</td>\n",
       "      <td>3</td>\n",
       "    </tr>\n",
       "    <tr>\n",
       "      <th>2</th>\n",
       "      <td>80176</td>\n",
       "      <td>NaN</td>\n",
       "      <td>NaN</td>\n",
       "      <td>NaN</td>\n",
       "      <td>NaN</td>\n",
       "      <td>0.0</td>\n",
       "      <td>NaN</td>\n",
       "      <td>NaN</td>\n",
       "      <td>0.0</td>\n",
       "      <td>2</td>\n",
       "      <td>ADRIATICA</td>\n",
       "      <td>3</td>\n",
       "    </tr>\n",
       "    <tr>\n",
       "      <th>3</th>\n",
       "      <td>66989</td>\n",
       "      <td>TRIPLE KARMELIET</td>\n",
       "      <td>TRIPLE KARMELIET</td>\n",
       "      <td>Craft</td>\n",
       "      <td>PERFECT DRAFT</td>\n",
       "      <td>6.0</td>\n",
       "      <td>-</td>\n",
       "      <td>SUPER PREMIUM</td>\n",
       "      <td>8.0</td>\n",
       "      <td>3</td>\n",
       "      <td>ANDES</td>\n",
       "      <td>3</td>\n",
       "    </tr>\n",
       "    <tr>\n",
       "      <th>4</th>\n",
       "      <td>11766</td>\n",
       "      <td>NaN</td>\n",
       "      <td>NaN</td>\n",
       "      <td>NaN</td>\n",
       "      <td>NaN</td>\n",
       "      <td>0.0</td>\n",
       "      <td>NaN</td>\n",
       "      <td>NaN</td>\n",
       "      <td>5.2</td>\n",
       "      <td>0</td>\n",
       "      <td>ADRIATICA</td>\n",
       "      <td>3</td>\n",
       "    </tr>\n",
       "  </tbody>\n",
       "</table>\n",
       "</div>"
      ],
      "text/plain": [
       "   PedidoProdutoId      ProdutoMarca   ProdutoSubmarca ProdutoSegmento2  \\\n",
       "0            10946             LEFFE      LEFFE BLONDE      Spécialités   \n",
       "1            19898               NaN               NaN              NaN   \n",
       "2            80176               NaN               NaN              NaN   \n",
       "3            66989  TRIPLE KARMELIET  TRIPLE KARMELIET            Craft   \n",
       "4            11766               NaN               NaN              NaN   \n",
       "\n",
       "  ProdutoTipoContainer  ProdutoTamanhoContainer ProdutoVariedade  \\\n",
       "0        PERFECT DRAFT                      6.0           Blonde   \n",
       "1                  NaN                      0.0              NaN   \n",
       "2                  NaN                      0.0              NaN   \n",
       "3        PERFECT DRAFT                      6.0                -   \n",
       "4                  NaN                      0.0              NaN   \n",
       "\n",
       "  ProdutoSegmento1  ProdutoPercentAlcoolico  cluster    de_para  \\\n",
       "0          PREMIUM                      6.6        4      LEFFE   \n",
       "1              NaN                      5.0        0  ADRIATICA   \n",
       "2              NaN                      0.0        2  ADRIATICA   \n",
       "3    SUPER PREMIUM                      8.0        3      ANDES   \n",
       "4              NaN                      5.2        0  ADRIATICA   \n",
       "\n",
       "   cluster_caracteristica  \n",
       "0                       3  \n",
       "1                       3  \n",
       "2                       3  \n",
       "3                       3  \n",
       "4                       3  "
      ]
     },
     "execution_count": 2,
     "metadata": {},
     "output_type": "execute_result"
    }
   ],
   "source": [
    "df_data = pd.read_csv('produto_data.csv')\n",
    "df_data.drop(columns=['Unnamed: 0'], inplace=True)\n",
    "df_data.head()"
   ]
  },
  {
   "cell_type": "code",
   "execution_count": 3,
   "metadata": {},
   "outputs": [
    {
     "data": {
      "text/html": [
       "<div>\n",
       "<style scoped>\n",
       "    .dataframe tbody tr th:only-of-type {\n",
       "        vertical-align: middle;\n",
       "    }\n",
       "\n",
       "    .dataframe tbody tr th {\n",
       "        vertical-align: top;\n",
       "    }\n",
       "\n",
       "    .dataframe thead th {\n",
       "        text-align: right;\n",
       "    }\n",
       "</style>\n",
       "<table border=\"1\" class=\"dataframe\">\n",
       "  <thead>\n",
       "    <tr style=\"text-align: right;\">\n",
       "      <th></th>\n",
       "      <th>PedidoProdutoId</th>\n",
       "      <th>ProdutoTamanhoContainer</th>\n",
       "      <th>ProdutoPercentAlcoolico</th>\n",
       "      <th>ProdutoVariedade</th>\n",
       "      <th>ProdutoSegmento1</th>\n",
       "      <th>cluster</th>\n",
       "      <th>ale</th>\n",
       "      <th>alto</th>\n",
       "      <th>amargor</th>\n",
       "      <th>amendoim</th>\n",
       "      <th>...</th>\n",
       "      <th>salada</th>\n",
       "      <th>suave</th>\n",
       "      <th>tradicional</th>\n",
       "      <th>trazer</th>\n",
       "      <th>trigar</th>\n",
       "      <th>ºc</th>\n",
       "      <th>água</th>\n",
       "      <th>água maltar</th>\n",
       "      <th>único</th>\n",
       "      <th>cluster_caracteristica</th>\n",
       "    </tr>\n",
       "  </thead>\n",
       "  <tbody>\n",
       "    <tr>\n",
       "      <th>0</th>\n",
       "      <td>10946</td>\n",
       "      <td>1.0</td>\n",
       "      <td>0.733333</td>\n",
       "      <td>0.235294</td>\n",
       "      <td>0.333333</td>\n",
       "      <td>4</td>\n",
       "      <td>0.252081</td>\n",
       "      <td>0.0</td>\n",
       "      <td>0.0</td>\n",
       "      <td>0.0</td>\n",
       "      <td>...</td>\n",
       "      <td>0.0</td>\n",
       "      <td>0.0</td>\n",
       "      <td>0.0</td>\n",
       "      <td>0.0</td>\n",
       "      <td>0.0</td>\n",
       "      <td>0.0</td>\n",
       "      <td>0.095127</td>\n",
       "      <td>0.0</td>\n",
       "      <td>0.0</td>\n",
       "      <td>3</td>\n",
       "    </tr>\n",
       "    <tr>\n",
       "      <th>1</th>\n",
       "      <td>20614</td>\n",
       "      <td>1.0</td>\n",
       "      <td>0.555556</td>\n",
       "      <td>0.882353</td>\n",
       "      <td>0.333333</td>\n",
       "      <td>4</td>\n",
       "      <td>0.252081</td>\n",
       "      <td>0.0</td>\n",
       "      <td>0.0</td>\n",
       "      <td>0.0</td>\n",
       "      <td>...</td>\n",
       "      <td>0.0</td>\n",
       "      <td>0.0</td>\n",
       "      <td>0.0</td>\n",
       "      <td>0.0</td>\n",
       "      <td>0.0</td>\n",
       "      <td>0.0</td>\n",
       "      <td>0.095127</td>\n",
       "      <td>0.0</td>\n",
       "      <td>0.0</td>\n",
       "      <td>3</td>\n",
       "    </tr>\n",
       "    <tr>\n",
       "      <th>2</th>\n",
       "      <td>64665</td>\n",
       "      <td>1.0</td>\n",
       "      <td>0.733333</td>\n",
       "      <td>0.117647</td>\n",
       "      <td>0.333333</td>\n",
       "      <td>4</td>\n",
       "      <td>0.252081</td>\n",
       "      <td>0.0</td>\n",
       "      <td>0.0</td>\n",
       "      <td>0.0</td>\n",
       "      <td>...</td>\n",
       "      <td>0.0</td>\n",
       "      <td>0.0</td>\n",
       "      <td>0.0</td>\n",
       "      <td>0.0</td>\n",
       "      <td>0.0</td>\n",
       "      <td>0.0</td>\n",
       "      <td>0.095127</td>\n",
       "      <td>0.0</td>\n",
       "      <td>0.0</td>\n",
       "      <td>3</td>\n",
       "    </tr>\n",
       "    <tr>\n",
       "      <th>3</th>\n",
       "      <td>17028</td>\n",
       "      <td>1.0</td>\n",
       "      <td>1.000000</td>\n",
       "      <td>0.764706</td>\n",
       "      <td>0.333333</td>\n",
       "      <td>4</td>\n",
       "      <td>0.252081</td>\n",
       "      <td>0.0</td>\n",
       "      <td>0.0</td>\n",
       "      <td>0.0</td>\n",
       "      <td>...</td>\n",
       "      <td>0.0</td>\n",
       "      <td>0.0</td>\n",
       "      <td>0.0</td>\n",
       "      <td>0.0</td>\n",
       "      <td>0.0</td>\n",
       "      <td>0.0</td>\n",
       "      <td>0.095127</td>\n",
       "      <td>0.0</td>\n",
       "      <td>0.0</td>\n",
       "      <td>3</td>\n",
       "    </tr>\n",
       "    <tr>\n",
       "      <th>4</th>\n",
       "      <td>53566</td>\n",
       "      <td>1.0</td>\n",
       "      <td>0.833333</td>\n",
       "      <td>0.588235</td>\n",
       "      <td>0.333333</td>\n",
       "      <td>4</td>\n",
       "      <td>0.252081</td>\n",
       "      <td>0.0</td>\n",
       "      <td>0.0</td>\n",
       "      <td>0.0</td>\n",
       "      <td>...</td>\n",
       "      <td>0.0</td>\n",
       "      <td>0.0</td>\n",
       "      <td>0.0</td>\n",
       "      <td>0.0</td>\n",
       "      <td>0.0</td>\n",
       "      <td>0.0</td>\n",
       "      <td>0.095127</td>\n",
       "      <td>0.0</td>\n",
       "      <td>0.0</td>\n",
       "      <td>3</td>\n",
       "    </tr>\n",
       "  </tbody>\n",
       "</table>\n",
       "<p>5 rows × 107 columns</p>\n",
       "</div>"
      ],
      "text/plain": [
       "   PedidoProdutoId  ProdutoTamanhoContainer  ProdutoPercentAlcoolico  \\\n",
       "0            10946                      1.0                 0.733333   \n",
       "1            20614                      1.0                 0.555556   \n",
       "2            64665                      1.0                 0.733333   \n",
       "3            17028                      1.0                 1.000000   \n",
       "4            53566                      1.0                 0.833333   \n",
       "\n",
       "   ProdutoVariedade  ProdutoSegmento1  cluster       ale  alto  amargor  \\\n",
       "0          0.235294          0.333333        4  0.252081   0.0      0.0   \n",
       "1          0.882353          0.333333        4  0.252081   0.0      0.0   \n",
       "2          0.117647          0.333333        4  0.252081   0.0      0.0   \n",
       "3          0.764706          0.333333        4  0.252081   0.0      0.0   \n",
       "4          0.588235          0.333333        4  0.252081   0.0      0.0   \n",
       "\n",
       "   amendoim  ...  salada  suave  tradicional  trazer  trigar   ºc      água  \\\n",
       "0       0.0  ...     0.0    0.0          0.0     0.0     0.0  0.0  0.095127   \n",
       "1       0.0  ...     0.0    0.0          0.0     0.0     0.0  0.0  0.095127   \n",
       "2       0.0  ...     0.0    0.0          0.0     0.0     0.0  0.0  0.095127   \n",
       "3       0.0  ...     0.0    0.0          0.0     0.0     0.0  0.0  0.095127   \n",
       "4       0.0  ...     0.0    0.0          0.0     0.0     0.0  0.0  0.095127   \n",
       "\n",
       "   água maltar  único  cluster_caracteristica  \n",
       "0          0.0    0.0                       3  \n",
       "1          0.0    0.0                       3  \n",
       "2          0.0    0.0                       3  \n",
       "3          0.0    0.0                       3  \n",
       "4          0.0    0.0                       3  \n",
       "\n",
       "[5 rows x 107 columns]"
      ]
     },
     "execution_count": 3,
     "metadata": {},
     "output_type": "execute_result"
    }
   ],
   "source": [
    "df = pd.read_csv('produto_model.csv')\n",
    "df.drop(columns=['Unnamed: 0'], inplace=True)\n",
    "df.head()"
   ]
  },
  {
   "cell_type": "markdown",
   "metadata": {},
   "source": [
    "## Separação dos dados do dataset de modelo\n",
    "\n",
    "O dataset de modelo foi separado em X, contendo todas as features e y, contendo apenas os clusters gerados com base no agrupamento das informações iniciais dos pedidos.\n",
    "\n",
    "O *y* não detem os agrupamentos corretos, ele apenas é um base line a fim de validar o novo agrupamento/recomendação dos produtos."
   ]
  },
  {
   "cell_type": "code",
   "execution_count": 4,
   "metadata": {},
   "outputs": [],
   "source": [
    "X = df.drop(columns=['PedidoProdutoId', 'cluster', 'cluster_caracteristica'])\n",
    "y = df['cluster_caracteristica']"
   ]
  },
  {
   "cell_type": "code",
   "execution_count": 5,
   "metadata": {},
   "outputs": [
    {
     "name": "stdout",
     "output_type": "stream",
     "text": [
      "X:  (179, 104)\n",
      "y:  (179,)\n"
     ]
    }
   ],
   "source": [
    "print('X: ', X.shape)\n",
    "print('y: ', y.shape)"
   ]
  },
  {
   "cell_type": "markdown",
   "metadata": {},
   "source": [
    "### Separação dos dados entre treino e teste"
   ]
  },
  {
   "cell_type": "code",
   "execution_count": 6,
   "metadata": {},
   "outputs": [],
   "source": [
    "X_train, X_test, y_train, y_test = train_test_split(X, y, train_size=0.7)"
   ]
  },
  {
   "cell_type": "code",
   "execution_count": 7,
   "metadata": {},
   "outputs": [
    {
     "name": "stdout",
     "output_type": "stream",
     "text": [
      "X_train:  (125, 104)  y_train:  (125,)\n",
      "X_test:  (54, 104)  y_test:  (54,)\n"
     ]
    }
   ],
   "source": [
    "print('X_train: ', X_train.shape, ' y_train: ', y_train.shape)\n",
    "print('X_test: ', X_test.shape, ' y_test: ', y_test.shape)"
   ]
  },
  {
   "cell_type": "markdown",
   "metadata": {},
   "source": [
    "### Analisando a quantidade de labels para verificar se os grupos estão balanceados"
   ]
  },
  {
   "cell_type": "code",
   "execution_count": 8,
   "metadata": {},
   "outputs": [
    {
     "data": {
      "image/png": "[encoded data removed]",
      "text/plain": [
       "<Figure size 864x576 with 1 Axes>"
      ]
     },
     "metadata": {},
     "output_type": "display_data"
    }
   ],
   "source": [
    "y_counts = y_train.value_counts()\n",
    "\n",
    "plt.figure(figsize=(12,8))\n",
    "\n",
    "plt.title('Quantidade de registros por labels - Treino')\n",
    "sns.barplot(y=y_counts.values, x=y_counts.index)\n",
    "plt.xlabel('Labels')\n",
    "plt.ylabel('Quantidade')\n",
    "plt.show()"
   ]
  },
  {
   "cell_type": "markdown",
   "metadata": {},
   "source": [
    "## Criação de modelos"
   ]
  },
  {
   "cell_type": "markdown",
   "metadata": {},
   "source": [
    "#### RandomForest"
   ]
  },
  {
   "cell_type": "code",
   "execution_count": 9,
   "metadata": {},
   "outputs": [],
   "source": [
    "from sklearn.tree import DecisionTreeClassifier\n",
    "\n",
    "model = DecisionTreeClassifier(criterion='entropy')\n",
    "model.fit(X_train, y_train)\n",
    "y_pred = model.predict(X_train)"
   ]
  },
  {
   "cell_type": "code",
   "execution_count": 10,
   "metadata": {},
   "outputs": [
    {
     "name": "stdout",
     "output_type": "stream",
     "text": [
      "Precisão:  1.0\n",
      "F1Score:  1.0\n",
      "[[48  0  0  0  0  0  0  0]\n",
      " [ 0  8  0  0  0  0  0  0]\n",
      " [ 0  0 15  0  0  0  0  0]\n",
      " [ 0  0  0  9  0  0  0  0]\n",
      " [ 0  0  0  0  7  0  0  0]\n",
      " [ 0  0  0  0  0  8  0  0]\n",
      " [ 0  0  0  0  0  0  4  0]\n",
      " [ 0  0  0  0  0  0  0 26]]\n"
     ]
    }
   ],
   "source": [
    "from sklearn.metrics import confusion_matrix, precision_score, f1_score\n",
    "\n",
    "print('Precisão: ', precision_score(y_train, y_pred, average='weighted'))\n",
    "print('F1Score: ', f1_score(y_train, y_pred, average='weighted'))\n",
    "print(confusion_matrix(y_train, y_pred))"
   ]
  },
  {
   "cell_type": "code",
   "execution_count": 11,
   "metadata": {},
   "outputs": [],
   "source": [
    "y_pred = model.predict(X_test)"
   ]
  },
  {
   "cell_type": "code",
   "execution_count": 12,
   "metadata": {},
   "outputs": [
    {
     "name": "stdout",
     "output_type": "stream",
     "text": [
      "Precisão:  0.9861111111111112\n",
      "F1Score:  0.9817754262198706\n",
      "[[20  0  0  0  0  0  0]\n",
      " [ 0  1  0  0  0  0  0]\n",
      " [ 0  0  4  0  0  1  0]\n",
      " [ 0  0  0  3  0  0  0]\n",
      " [ 0  0  0  0 11  0  0]\n",
      " [ 0  0  0  0  0  3  0]\n",
      " [ 0  0  0  0  0  0 11]]\n"
     ]
    }
   ],
   "source": [
    "print('Precisão: ', precision_score(y_test, y_pred, average='weighted'))\n",
    "print('F1Score: ', f1_score(y_test, y_pred, average='weighted'))\n",
    "print(confusion_matrix(y_test, y_pred))"
   ]
  },
  {
   "cell_type": "code",
   "execution_count": 13,
   "metadata": {},
   "outputs": [
    {
     "data": {
      "image/png": "[encoded data removed]",
      "text/plain": [
       "<Figure size 1440x864 with 1 Axes>"
      ]
     },
     "metadata": {},
     "output_type": "display_data"
    }
   ],
   "source": [
    "from sklearn import tree\n",
    "\n",
    "plt.figure(figsize=(20,12))\n",
    "tree.plot_tree(model, feature_names=X_train.columns, filled=True)\n",
    "plt.show()"
   ]
  },
  {
   "cell_type": "markdown",
   "metadata": {},
   "source": [
    "### SVM"
   ]
  },
  {
   "cell_type": "code",
   "execution_count": 14,
   "metadata": {},
   "outputs": [
    {
     "data": {
      "text/plain": [
       "SVC(C=1.5, coef0=0.55, kernel='poly', probability=True)"
      ]
     },
     "execution_count": 14,
     "metadata": {},
     "output_type": "execute_result"
    }
   ],
   "source": [
    "from sklearn.svm import SVC\n",
    "\n",
    "model = SVC(kernel='poly', C=1.5, coef0=0.55, probability=True)\n",
    "model.fit(X_train, y_train)"
   ]
  },
  {
   "cell_type": "code",
   "execution_count": 15,
   "metadata": {},
   "outputs": [],
   "source": [
    "y_pred = model.predict(X_train)"
   ]
  },
  {
   "cell_type": "code",
   "execution_count": 16,
   "metadata": {},
   "outputs": [
    {
     "name": "stdout",
     "output_type": "stream",
     "text": [
      "Precisão:  1.0\n",
      "F1Score:  1.0\n",
      "[[48  0  0  0  0  0  0  0]\n",
      " [ 0  8  0  0  0  0  0  0]\n",
      " [ 0  0 15  0  0  0  0  0]\n",
      " [ 0  0  0  9  0  0  0  0]\n",
      " [ 0  0  0  0  7  0  0  0]\n",
      " [ 0  0  0  0  0  8  0  0]\n",
      " [ 0  0  0  0  0  0  4  0]\n",
      " [ 0  0  0  0  0  0  0 26]]\n"
     ]
    }
   ],
   "source": [
    "print('Precisão: ', precision_score(y_train, y_pred, average='weighted'))\n",
    "print('F1Score: ', f1_score(y_train, y_pred, average='weighted'))\n",
    "print(confusion_matrix(y_train, y_pred))"
   ]
  },
  {
   "cell_type": "code",
   "execution_count": 17,
   "metadata": {},
   "outputs": [],
   "source": [
    "y_pred = model.predict(X_test)"
   ]
  },
  {
   "cell_type": "code",
   "execution_count": 18,
   "metadata": {},
   "outputs": [
    {
     "name": "stdout",
     "output_type": "stream",
     "text": [
      "Precisão:  1.0\n",
      "F1Score:  1.0\n",
      "[[20  0  0  0  0  0  0]\n",
      " [ 0  1  0  0  0  0  0]\n",
      " [ 0  0  5  0  0  0  0]\n",
      " [ 0  0  0  3  0  0  0]\n",
      " [ 0  0  0  0 11  0  0]\n",
      " [ 0  0  0  0  0  3  0]\n",
      " [ 0  0  0  0  0  0 11]]\n"
     ]
    }
   ],
   "source": [
    "print('Precisão: ', precision_score(y_test, y_pred, average='weighted'))\n",
    "print('F1Score: ', f1_score(y_test, y_pred, average='weighted'))\n",
    "print(confusion_matrix(y_test, y_pred))"
   ]
  },
  {
   "cell_type": "code",
   "execution_count": 19,
   "metadata": {},
   "outputs": [],
   "source": [
    "pickle.dump(model, open('model.pickle', 'wb'))"
   ]
  },
  {
   "cell_type": "markdown",
   "metadata": {},
   "source": [
    "### Predição\n",
    "\n",
    "Prever em qual categoria o produto se enquandra e quais itens são similares à ele.\n",
    "\n",
    "Informações necessárias para o agrupamento/predição do produto\n",
    "\n",
    "* ProdutoTamanhoContainer\n",
    "* ProdutoPercentAlcoolico\n",
    "* ProdutoVariedade\n",
    "* ProdutoSegmento1\n",
    "* Descrição completa (Descricao + Harmonização + Temperatura + Ibu)\n",
    "* Ingredientes\n",
    "* Alergico\n"
   ]
  },
  {
   "cell_type": "code",
   "execution_count": 20,
   "metadata": {},
   "outputs": [
    {
     "data": {
      "text/html": [
       "<div>\n",
       "<style scoped>\n",
       "    .dataframe tbody tr th:only-of-type {\n",
       "        vertical-align: middle;\n",
       "    }\n",
       "\n",
       "    .dataframe tbody tr th {\n",
       "        vertical-align: top;\n",
       "    }\n",
       "\n",
       "    .dataframe thead th {\n",
       "        text-align: right;\n",
       "    }\n",
       "</style>\n",
       "<table border=\"1\" class=\"dataframe\">\n",
       "  <thead>\n",
       "    <tr style=\"text-align: right;\">\n",
       "      <th></th>\n",
       "      <th>ProdutoTamanhoContainer</th>\n",
       "      <th>ProdutoPercentAlcoolico</th>\n",
       "      <th>ProdutoVariedade</th>\n",
       "      <th>ProdutoSegmento1</th>\n",
       "      <th>Descricao</th>\n",
       "      <th>Harmonizacao</th>\n",
       "      <th>Ingredientes</th>\n",
       "      <th>Alergico</th>\n",
       "      <th>Temperatura</th>\n",
       "      <th>Ibu</th>\n",
       "    </tr>\n",
       "  </thead>\n",
       "  <tbody>\n",
       "  </tbody>\n",
       "</table>\n",
       "</div>"
      ],
      "text/plain": [
       "Empty DataFrame\n",
       "Columns: [ProdutoTamanhoContainer, ProdutoPercentAlcoolico, ProdutoVariedade, ProdutoSegmento1, Descricao, Harmonizacao, Ingredientes, Alergico, Temperatura, Ibu]\n",
       "Index: []"
      ]
     },
     "execution_count": 20,
     "metadata": {},
     "output_type": "execute_result"
    }
   ],
   "source": [
    "df_predict = pd.DataFrame(columns=['ProdutoTamanhoContainer', 'ProdutoPercentAlcoolico', 'ProdutoVariedade', 'ProdutoSegmento1', 'Descricao', 'Harmonizacao', 'Ingredientes', 'Alergico', 'Temperatura', 'Ibu'])\n",
    "df_predict"
   ]
  },
  {
   "cell_type": "code",
   "execution_count": 21,
   "metadata": {},
   "outputs": [],
   "source": [
    "descricao = 'Uma deliciosa cerveja feita no altos montes do imalaia'\n",
    "harmonizacao = 'O adocicado sabor do mel e a leveja do trigo proporcionam um delecioso sabor. Este produto é otimo em acompanhamentos de pratos doces.'\n",
    "\n",
    "\n",
    "df_predict.loc[0] = [6.0, 6, 'Blonde', '', descricao, harmonizacao, 'Agua, Trigo, Mel', 'Contém glutem', '0-3', 15]"
   ]
  },
  {
   "cell_type": "code",
   "execution_count": 22,
   "metadata": {},
   "outputs": [
    {
     "data": {
      "text/html": [
       "<div>\n",
       "<style scoped>\n",
       "    .dataframe tbody tr th:only-of-type {\n",
       "        vertical-align: middle;\n",
       "    }\n",
       "\n",
       "    .dataframe tbody tr th {\n",
       "        vertical-align: top;\n",
       "    }\n",
       "\n",
       "    .dataframe thead th {\n",
       "        text-align: right;\n",
       "    }\n",
       "</style>\n",
       "<table border=\"1\" class=\"dataframe\">\n",
       "  <thead>\n",
       "    <tr style=\"text-align: right;\">\n",
       "      <th></th>\n",
       "      <th>ProdutoTamanhoContainer</th>\n",
       "      <th>ProdutoPercentAlcoolico</th>\n",
       "      <th>ProdutoVariedade</th>\n",
       "      <th>ProdutoSegmento1</th>\n",
       "      <th>Descricao</th>\n",
       "      <th>Harmonizacao</th>\n",
       "      <th>Ingredientes</th>\n",
       "      <th>Alergico</th>\n",
       "      <th>Temperatura</th>\n",
       "      <th>Ibu</th>\n",
       "    </tr>\n",
       "  </thead>\n",
       "  <tbody>\n",
       "    <tr>\n",
       "      <th>0</th>\n",
       "      <td>6.0</td>\n",
       "      <td>6</td>\n",
       "      <td>Blonde</td>\n",
       "      <td></td>\n",
       "      <td>Uma deliciosa cerveja feita no altos montes do...</td>\n",
       "      <td>O adocicado sabor do mel e a leveja do trigo p...</td>\n",
       "      <td>Agua, Trigo, Mel</td>\n",
       "      <td>Contém glutem</td>\n",
       "      <td>0-3</td>\n",
       "      <td>15</td>\n",
       "    </tr>\n",
       "  </tbody>\n",
       "</table>\n",
       "</div>"
      ],
      "text/plain": [
       "   ProdutoTamanhoContainer ProdutoPercentAlcoolico ProdutoVariedade  \\\n",
       "0                      6.0                       6           Blonde   \n",
       "\n",
       "  ProdutoSegmento1                                          Descricao  \\\n",
       "0                   Uma deliciosa cerveja feita no altos montes do...   \n",
       "\n",
       "                                        Harmonizacao      Ingredientes  \\\n",
       "0  O adocicado sabor do mel e a leveja do trigo p...  Agua, Trigo, Mel   \n",
       "\n",
       "        Alergico Temperatura Ibu  \n",
       "0  Contém glutem         0-3  15  "
      ]
     },
     "execution_count": 22,
     "metadata": {},
     "output_type": "execute_result"
    }
   ],
   "source": [
    "df_predict"
   ]
  },
  {
   "cell_type": "code",
   "execution_count": null,
   "metadata": {},
   "outputs": [],
   "source": []
  },
  {
   "cell_type": "code",
   "execution_count": 23,
   "metadata": {},
   "outputs": [],
   "source": [
    "encoders: dict = pickle.load(open('encoders_produto.pickle', 'rb'))\n",
    "scalers: dict = pickle.load(open('scalers_produto.pickle', 'rb'))\n",
    "# ingredientes_binarizer: MultiLabelBinarizer = pickle.load(open('ingrediente_label.pickle', 'rb'))\n",
    "# alergicos_binarizer: MultiLabelBinarizer = pickle.load(open('alergico_label.pickle', 'rb'))\n",
    "tf_idf:TfidfVectorizer = pickle.load(open('tf_idf.pickle', 'rb'))"
   ]
  },
  {
   "cell_type": "code",
   "execution_count": 24,
   "metadata": {},
   "outputs": [],
   "source": [
    "variedade_encoder: LabelEncoder = encoders.get('ProdutoVariedade')\n",
    "segmento_encoder: LabelEncoder = encoders.get('ProdutoSegmento1')"
   ]
  },
  {
   "cell_type": "code",
   "execution_count": 25,
   "metadata": {},
   "outputs": [],
   "source": [
    "df_predict['ProdutoVariedade'] = df_predict['ProdutoVariedade'].apply(lambda x: x if x in variedade_encoder.classes_ else variedade_encoder.classes_[0])\n",
    "df_predict['ProdutoVariedade'] = variedade_encoder.transform(df_predict['ProdutoVariedade'])"
   ]
  },
  {
   "cell_type": "code",
   "execution_count": 26,
   "metadata": {},
   "outputs": [],
   "source": [
    "df_predict['ProdutoSegmento1'] = df_predict['ProdutoSegmento1'].apply(lambda x: x if x in segmento_encoder.classes_ else segmento_encoder.classes_[0])\n",
    "df_predict['ProdutoSegmento1'] = segmento_encoder.transform(df_predict['ProdutoSegmento1'])"
   ]
  },
  {
   "cell_type": "code",
   "execution_count": 27,
   "metadata": {},
   "outputs": [],
   "source": [
    "container_scaler : MinMaxScaler= scalers.get('ProdutoTamanhoContainer')\n",
    "percent_alcoolico_scaler: MinMaxScaler = scalers.get('ProdutoPercentAlcoolico')\n",
    "variedade_scaler: MinMaxScaler = scalers.get('ProdutoVariedade')\n",
    "segmento1_scaler: MinMaxScaler = scalers.get('ProdutoSegmento1')"
   ]
  },
  {
   "cell_type": "code",
   "execution_count": 28,
   "metadata": {},
   "outputs": [],
   "source": [
    "df_predict['ProdutoTamanhoContainer'] = container_scaler.transform(df_predict['ProdutoTamanhoContainer'].values.reshape(-1,1))\n",
    "df_predict['ProdutoPercentAlcoolico'] = percent_alcoolico_scaler.transform(df_predict['ProdutoPercentAlcoolico'].values.reshape(-1,1))\n",
    "df_predict['ProdutoVariedade'] = variedade_scaler.transform(df_predict['ProdutoVariedade'].values.reshape(-1,1))\n",
    "df_predict['ProdutoSegmento1'] = segmento1_scaler.transform(df_predict['ProdutoSegmento1'].values.reshape(-1,1))"
   ]
  },
  {
   "cell_type": "code",
   "execution_count": 29,
   "metadata": {},
   "outputs": [],
   "source": [
    "df_predict['Descricao'] = df_predict['Descricao'] + '. ' + df_predict['Harmonizacao'] + '. '+ df_predict['Ingredientes'] + '. '+ df_predict['Alergico'] + '. ' + df_predict['Temperatura'] + '. ' + df_predict['Ibu'].astype(str)\n",
    "df_predict.drop(columns=['Harmonizacao', 'Ingredientes', 'Alergico', 'Temperatura', 'Ibu'], inplace=True)"
   ]
  },
  {
   "cell_type": "code",
   "execution_count": 30,
   "metadata": {},
   "outputs": [
    {
     "data": {
      "text/html": [
       "<div>\n",
       "<style scoped>\n",
       "    .dataframe tbody tr th:only-of-type {\n",
       "        vertical-align: middle;\n",
       "    }\n",
       "\n",
       "    .dataframe tbody tr th {\n",
       "        vertical-align: top;\n",
       "    }\n",
       "\n",
       "    .dataframe thead th {\n",
       "        text-align: right;\n",
       "    }\n",
       "</style>\n",
       "<table border=\"1\" class=\"dataframe\">\n",
       "  <thead>\n",
       "    <tr style=\"text-align: right;\">\n",
       "      <th></th>\n",
       "      <th>ProdutoTamanhoContainer</th>\n",
       "      <th>ProdutoPercentAlcoolico</th>\n",
       "      <th>ProdutoVariedade</th>\n",
       "      <th>ProdutoSegmento1</th>\n",
       "      <th>Descricao</th>\n",
       "    </tr>\n",
       "  </thead>\n",
       "  <tbody>\n",
       "    <tr>\n",
       "      <th>0</th>\n",
       "      <td>1.0</td>\n",
       "      <td>0.666667</td>\n",
       "      <td>0.235294</td>\n",
       "      <td>0.0</td>\n",
       "      <td>Uma deliciosa cerveja feita no altos montes do...</td>\n",
       "    </tr>\n",
       "  </tbody>\n",
       "</table>\n",
       "</div>"
      ],
      "text/plain": [
       "   ProdutoTamanhoContainer  ProdutoPercentAlcoolico  ProdutoVariedade  \\\n",
       "0                      1.0                 0.666667          0.235294   \n",
       "\n",
       "   ProdutoSegmento1                                          Descricao  \n",
       "0               0.0  Uma deliciosa cerveja feita no altos montes do...  "
      ]
     },
     "execution_count": 30,
     "metadata": {},
     "output_type": "execute_result"
    }
   ],
   "source": [
    "df_predict"
   ]
  },
  {
   "cell_type": "code",
   "execution_count": 31,
   "metadata": {},
   "outputs": [],
   "source": [
    "bow = tf_idf.transform(df_predict['Descricao'])"
   ]
  },
  {
   "cell_type": "code",
   "execution_count": 32,
   "metadata": {},
   "outputs": [],
   "source": [
    "features = pd.DataFrame(bow.toarray(), columns=tf_idf.get_feature_names())\n",
    "df_predict = pd.concat([df_predict, features], axis=1)\n",
    "df_predict.drop(columns=['Descricao'], inplace=True)"
   ]
  },
  {
   "cell_type": "code",
   "execution_count": 33,
   "metadata": {},
   "outputs": [
    {
     "data": {
      "text/html": [
       "<div>\n",
       "<style scoped>\n",
       "    .dataframe tbody tr th:only-of-type {\n",
       "        vertical-align: middle;\n",
       "    }\n",
       "\n",
       "    .dataframe tbody tr th {\n",
       "        vertical-align: top;\n",
       "    }\n",
       "\n",
       "    .dataframe thead th {\n",
       "        text-align: right;\n",
       "    }\n",
       "</style>\n",
       "<table border=\"1\" class=\"dataframe\">\n",
       "  <thead>\n",
       "    <tr style=\"text-align: right;\">\n",
       "      <th></th>\n",
       "      <th>ProdutoTamanhoContainer</th>\n",
       "      <th>ProdutoPercentAlcoolico</th>\n",
       "      <th>ProdutoVariedade</th>\n",
       "      <th>ProdutoSegmento1</th>\n",
       "      <th>ale</th>\n",
       "      <th>alto</th>\n",
       "      <th>amargor</th>\n",
       "      <th>amendoim</th>\n",
       "      <th>ano</th>\n",
       "      <th>aromar</th>\n",
       "      <th>...</th>\n",
       "      <th>sabor</th>\n",
       "      <th>salada</th>\n",
       "      <th>suave</th>\n",
       "      <th>tradicional</th>\n",
       "      <th>trazer</th>\n",
       "      <th>trigar</th>\n",
       "      <th>ºc</th>\n",
       "      <th>água</th>\n",
       "      <th>água maltar</th>\n",
       "      <th>único</th>\n",
       "    </tr>\n",
       "  </thead>\n",
       "  <tbody>\n",
       "    <tr>\n",
       "      <th>0</th>\n",
       "      <td>1.0</td>\n",
       "      <td>0.666667</td>\n",
       "      <td>0.235294</td>\n",
       "      <td>0.0</td>\n",
       "      <td>0.0</td>\n",
       "      <td>0.0</td>\n",
       "      <td>0.0</td>\n",
       "      <td>0.0</td>\n",
       "      <td>0.0</td>\n",
       "      <td>0.0</td>\n",
       "      <td>...</td>\n",
       "      <td>0.83167</td>\n",
       "      <td>0.0</td>\n",
       "      <td>0.0</td>\n",
       "      <td>0.0</td>\n",
       "      <td>0.0</td>\n",
       "      <td>0.0</td>\n",
       "      <td>0.0</td>\n",
       "      <td>0.0</td>\n",
       "      <td>0.0</td>\n",
       "      <td>0.0</td>\n",
       "    </tr>\n",
       "  </tbody>\n",
       "</table>\n",
       "<p>1 rows × 104 columns</p>\n",
       "</div>"
      ],
      "text/plain": [
       "   ProdutoTamanhoContainer  ProdutoPercentAlcoolico  ProdutoVariedade  \\\n",
       "0                      1.0                 0.666667          0.235294   \n",
       "\n",
       "   ProdutoSegmento1  ale  alto  amargor  amendoim  ano  aromar  ...    sabor  \\\n",
       "0               0.0  0.0   0.0      0.0       0.0  0.0     0.0  ...  0.83167   \n",
       "\n",
       "   salada  suave  tradicional  trazer  trigar   ºc  água  água maltar  único  \n",
       "0     0.0    0.0          0.0     0.0     0.0  0.0   0.0          0.0    0.0  \n",
       "\n",
       "[1 rows x 104 columns]"
      ]
     },
     "execution_count": 33,
     "metadata": {},
     "output_type": "execute_result"
    }
   ],
   "source": [
    "df_predict"
   ]
  },
  {
   "cell_type": "code",
   "execution_count": 34,
   "metadata": {},
   "outputs": [
    {
     "name": "stdout",
     "output_type": "stream",
     "text": [
      "[[0.19361623 0.04670743 0.07907772 0.2642556  0.10047251 0.04494004\n",
      "  0.05703962 0.21389086]]\n",
      "3\n"
     ]
    }
   ],
   "source": [
    "print(model.predict_proba(df_predict))\n",
    "y_pred = model.predict(df_predict)[0]\n",
    "print(y_pred)"
   ]
  },
  {
   "cell_type": "code",
   "execution_count": 35,
   "metadata": {},
   "outputs": [
    {
     "data": {
      "text/html": [
       "<div>\n",
       "<style scoped>\n",
       "    .dataframe tbody tr th:only-of-type {\n",
       "        vertical-align: middle;\n",
       "    }\n",
       "\n",
       "    .dataframe tbody tr th {\n",
       "        vertical-align: top;\n",
       "    }\n",
       "\n",
       "    .dataframe thead th {\n",
       "        text-align: right;\n",
       "    }\n",
       "</style>\n",
       "<table border=\"1\" class=\"dataframe\">\n",
       "  <thead>\n",
       "    <tr style=\"text-align: right;\">\n",
       "      <th></th>\n",
       "      <th>PedidoProdutoId</th>\n",
       "      <th>ProdutoMarca</th>\n",
       "      <th>ProdutoSubmarca</th>\n",
       "      <th>ProdutoSegmento2</th>\n",
       "      <th>ProdutoTipoContainer</th>\n",
       "      <th>ProdutoTamanhoContainer</th>\n",
       "      <th>ProdutoVariedade</th>\n",
       "      <th>ProdutoSegmento1</th>\n",
       "      <th>ProdutoPercentAlcoolico</th>\n",
       "      <th>cluster</th>\n",
       "      <th>de_para</th>\n",
       "      <th>cluster_caracteristica</th>\n",
       "    </tr>\n",
       "  </thead>\n",
       "  <tbody>\n",
       "    <tr>\n",
       "      <th>0</th>\n",
       "      <td>10946</td>\n",
       "      <td>LEFFE</td>\n",
       "      <td>LEFFE BLONDE</td>\n",
       "      <td>Spécialités</td>\n",
       "      <td>PERFECT DRAFT</td>\n",
       "      <td>6.0</td>\n",
       "      <td>Blonde</td>\n",
       "      <td>PREMIUM</td>\n",
       "      <td>6.6</td>\n",
       "      <td>4</td>\n",
       "      <td>LEFFE</td>\n",
       "      <td>3</td>\n",
       "    </tr>\n",
       "    <tr>\n",
       "      <th>1</th>\n",
       "      <td>19898</td>\n",
       "      <td>NaN</td>\n",
       "      <td>NaN</td>\n",
       "      <td>NaN</td>\n",
       "      <td>NaN</td>\n",
       "      <td>0.0</td>\n",
       "      <td>NaN</td>\n",
       "      <td>NaN</td>\n",
       "      <td>5.0</td>\n",
       "      <td>0</td>\n",
       "      <td>ADRIATICA</td>\n",
       "      <td>3</td>\n",
       "    </tr>\n",
       "    <tr>\n",
       "      <th>2</th>\n",
       "      <td>80176</td>\n",
       "      <td>NaN</td>\n",
       "      <td>NaN</td>\n",
       "      <td>NaN</td>\n",
       "      <td>NaN</td>\n",
       "      <td>0.0</td>\n",
       "      <td>NaN</td>\n",
       "      <td>NaN</td>\n",
       "      <td>0.0</td>\n",
       "      <td>2</td>\n",
       "      <td>ADRIATICA</td>\n",
       "      <td>3</td>\n",
       "    </tr>\n",
       "  </tbody>\n",
       "</table>\n",
       "</div>"
      ],
      "text/plain": [
       "   PedidoProdutoId ProdutoMarca ProdutoSubmarca ProdutoSegmento2  \\\n",
       "0            10946        LEFFE    LEFFE BLONDE      Spécialités   \n",
       "1            19898          NaN             NaN              NaN   \n",
       "2            80176          NaN             NaN              NaN   \n",
       "\n",
       "  ProdutoTipoContainer  ProdutoTamanhoContainer ProdutoVariedade  \\\n",
       "0        PERFECT DRAFT                      6.0           Blonde   \n",
       "1                  NaN                      0.0              NaN   \n",
       "2                  NaN                      0.0              NaN   \n",
       "\n",
       "  ProdutoSegmento1  ProdutoPercentAlcoolico  cluster    de_para  \\\n",
       "0          PREMIUM                      6.6        4      LEFFE   \n",
       "1              NaN                      5.0        0  ADRIATICA   \n",
       "2              NaN                      0.0        2  ADRIATICA   \n",
       "\n",
       "   cluster_caracteristica  \n",
       "0                       3  \n",
       "1                       3  \n",
       "2                       3  "
      ]
     },
     "execution_count": 35,
     "metadata": {},
     "output_type": "execute_result"
    }
   ],
   "source": [
    "df_data[df_data['cluster_caracteristica'] == y_pred][0:3]"
   ]
  },
  {
   "cell_type": "code",
   "execution_count": null,
   "metadata": {},
   "outputs": [],
   "source": []
  },
  {
   "cell_type": "code",
   "execution_count": null,
   "metadata": {},
   "outputs": [],
   "source": []
  }
 ],
 "metadata": {
  "interpreter": {
   "hash": "2757f2c2fa6babad547f4a3642c7cf29f9f98149abb7990afbb40d637e41adc8"
  },
  "kernelspec": {
   "display_name": "Python 3.8.8 64-bit ('base': conda)",
   "name": "python3"
  },
  "language_info": {
   "codemirror_mode": {
    "name": "ipython",
    "version": 3
   },
   "file_extension": ".py",
   "mimetype": "text/x-python",
   "name": "python",
   "nbconvert_exporter": "python",
   "pygments_lexer": "ipython3",
   "version": "3.8.8"
  },
  "orig_nbformat": 4
 },
 "nbformat": 4,
 "nbformat_minor": 2
}
