{
 "cells": [
  {
   "cell_type": "markdown",
   "metadata": {},
   "source": [
    "# Comportamento Atacadista\n",
    "\n",
    "Este notebook tem como objetivo entender o comportamento do atacadista"
   ]
  },
  {
   "cell_type": "code",
   "execution_count": 1,
   "metadata": {},
   "outputs": [],
   "source": [
    "import pandas as pd\n",
    "import numpy as np\n",
    "import seaborn as sns\n",
    "import matplotlib.pyplot as plt\n",
    "\n",
    "plt.style.use('ggplot')"
   ]
  },
  {
   "cell_type": "markdown",
   "metadata": {},
   "source": [
    "### Carregamento do dataset e separação dos dados do atacadista"
   ]
  },
  {
   "cell_type": "code",
   "execution_count": 2,
   "metadata": {},
   "outputs": [],
   "source": [
    "columns_map = {\n",
    "    'Doc. Date': 'PedidoDataDocumento',\n",
    "    'Material': 'PedidoProdutoId',\n",
    "    'Order qty': 'PedidoOrdem',\n",
    "    'Ship-to nu': 'PedidoAtacadistaId',\n",
    "    'PCS delivered': 'PedidoQuantidade',\n",
    "    'HL delivered': 'PedidoHectolitroEntregue',\n",
    "    'delivery_days': 'PedidoDiasEntrega',\n",
    "    'delivery_flag': 'PedidoEntregue',\n",
    "    'lead_time_creation_vs_rdd_flag': 'PedidoLeadTimeEntrega',\n",
    "    'MACO/HL ': 'PedidoContribuicaoHectolitro',\n",
    "    'Groupement': 'AtacadistaGrupoImpostoPreco',\n",
    "    'Postal Code': 'AtacadistaCodigoPostal',\n",
    "    'Street': 'AtacadistaRuaEndereco',\n",
    "    'Sous groupement': 'AtacadistaSubgrupo',\n",
    "    'M2_Territory_ID': 'AtacadistaLocalizacaoId',\n",
    "    'M1_Territory_ID': 'AtacadistaSubLocalizacaoId',\n",
    "    'Dépt': 'AtacadistaDepartamento',\n",
    "    'Brand': 'ProdutoMarca',\n",
    "    'Subrand': 'ProdutoSubmarca',\n",
    "    'SEGMENTS : Pils / Spécialités / Superspécialités/Bouteille Young adult': 'ProdutoSegmento2',\n",
    "    'Container Type': 'ProdutoTipoContainer',\n",
    "    'Container Size': 'ProdutoTamanhoContainer',\n",
    "    'Variétés': 'ProdutoVariedade',\n",
    "    'Segment LE': 'ProdutoSegmento1',\n",
    "    'Latitude': 'AtacadistaLatitude',\n",
    "    'Longitude': 'AtacadistaLongitude',\n",
    "    'Degre Alc': 'ProdutoPercentAlcoolico',\n",
    "    'TTC': 'PedidoPrecoFinalParaUmProd',\n",
    "    'Brut + TE': 'PedidoTaxas',\n",
    "    'DA': 'PedidoTaxaTransporteAereo',\n",
    "    'Net + TE - Hors majoration de rompu de palette': 'PedidoPrecoLiquidoDescontoPaliteQuebrado'\n",
    "}"
   ]
  },
  {
   "cell_type": "code",
   "execution_count": 3,
   "metadata": {},
   "outputs": [],
   "source": [
    "df = pd.read_excel('Data.xlsx')\n",
    "df.drop(columns=['Unnamed: 0'], inplace=True)\n",
    "df.columns = df.columns.map(columns_map)"
   ]
  },
  {
   "cell_type": "code",
   "execution_count": 4,
   "metadata": {},
   "outputs": [
    {
     "name": "stdout",
     "output_type": "stream",
     "text": [
      "Quantidade de atacadistas:  73670\n",
      "Quantidade de atacadistas unicos:  179\n"
     ]
    }
   ],
   "source": [
    "print('Quantidade de atacadistas: ', len(df['PedidoAtacadistaId']))\n",
    "print('Quantidade de atacadistas unicos: ', len(df['PedidoAtacadistaId'].unique()))"
   ]
  },
  {
   "cell_type": "code",
   "execution_count": 5,
   "metadata": {},
   "outputs": [],
   "source": [
    "df_atacadista = df[[column for column in df.columns if 'Atacadista' in column]]\n",
    "df_pedido = df[[column for column in df.columns if 'Pedido' in column]]"
   ]
  },
  {
   "cell_type": "code",
   "execution_count": 6,
   "metadata": {},
   "outputs": [
    {
     "name": "stdout",
     "output_type": "stream",
     "text": [
      "179\n"
     ]
    },
    {
     "name": "stderr",
     "output_type": "stream",
     "text": [
      "<ipython-input-6-b7d910a3ac19>:1: SettingWithCopyWarning: \n",
      "A value is trying to be set on a copy of a slice from a DataFrame\n",
      "\n",
      "See the caveats in the documentation: https://pandas.pydata.org/pandas-docs/stable/user_guide/indexing.html#returning-a-view-versus-a-copy\n",
      "  df_atacadista.drop_duplicates(subset=['PedidoAtacadistaId'], inplace=True)\n"
     ]
    }
   ],
   "source": [
    "df_atacadista.drop_duplicates(subset=['PedidoAtacadistaId'], inplace=True)\n",
    "print(len(df_atacadista))"
   ]
  },
  {
   "cell_type": "code",
   "execution_count": 7,
   "metadata": {},
   "outputs": [
    {
     "name": "stdout",
     "output_type": "stream",
     "text": [
      "<class 'pandas.core.frame.DataFrame'>\n",
      "Int64Index: 179 entries, 0 to 69643\n",
      "Data columns (total 10 columns):\n",
      " #   Column                       Non-Null Count  Dtype  \n",
      "---  ------                       --------------  -----  \n",
      " 0   PedidoAtacadistaId           179 non-null    int64  \n",
      " 1   AtacadistaGrupoImpostoPreco  179 non-null    object \n",
      " 2   AtacadistaCodigoPostal       179 non-null    int64  \n",
      " 3   AtacadistaRuaEndereco        177 non-null    object \n",
      " 4   AtacadistaSubgrupo           177 non-null    object \n",
      " 5   AtacadistaLocalizacaoId      177 non-null    object \n",
      " 6   AtacadistaSubLocalizacaoId   177 non-null    object \n",
      " 7   AtacadistaDepartamento       177 non-null    float64\n",
      " 8   AtacadistaLatitude           170 non-null    float64\n",
      " 9   AtacadistaLongitude          170 non-null    float64\n",
      "dtypes: float64(3), int64(2), object(5)\n",
      "memory usage: 15.4+ KB\n"
     ]
    }
   ],
   "source": [
    "df_atacadista.info()"
   ]
  },
  {
   "cell_type": "code",
   "execution_count": 8,
   "metadata": {},
   "outputs": [
    {
     "data": {
      "text/html": [
       "<div>\n",
       "<style scoped>\n",
       "    .dataframe tbody tr th:only-of-type {\n",
       "        vertical-align: middle;\n",
       "    }\n",
       "\n",
       "    .dataframe tbody tr th {\n",
       "        vertical-align: top;\n",
       "    }\n",
       "\n",
       "    .dataframe thead th {\n",
       "        text-align: right;\n",
       "    }\n",
       "</style>\n",
       "<table border=\"1\" class=\"dataframe\">\n",
       "  <thead>\n",
       "    <tr style=\"text-align: right;\">\n",
       "      <th></th>\n",
       "      <th>PedidoAtacadistaId</th>\n",
       "      <th>AtacadistaGrupoImpostoPreco</th>\n",
       "      <th>AtacadistaCodigoPostal</th>\n",
       "      <th>AtacadistaRuaEndereco</th>\n",
       "      <th>AtacadistaSubgrupo</th>\n",
       "      <th>AtacadistaLocalizacaoId</th>\n",
       "      <th>AtacadistaSubLocalizacaoId</th>\n",
       "      <th>AtacadistaDepartamento</th>\n",
       "      <th>AtacadistaLatitude</th>\n",
       "      <th>AtacadistaLongitude</th>\n",
       "    </tr>\n",
       "  </thead>\n",
       "  <tbody>\n",
       "    <tr>\n",
       "      <th>0</th>\n",
       "      <td>29606863</td>\n",
       "      <td>FRANCE BOISSONS</td>\n",
       "      <td>59160</td>\n",
       "      <td>RUE DU CHEMIN SAINT MARTIN</td>\n",
       "      <td>France BOISSONS</td>\n",
       "      <td>FR01_ON_1000</td>\n",
       "      <td>FR01_ON_1004</td>\n",
       "      <td>59.0</td>\n",
       "      <td>50.6455</td>\n",
       "      <td>2.9619</td>\n",
       "    </tr>\n",
       "    <tr>\n",
       "      <th>4</th>\n",
       "      <td>29378784</td>\n",
       "      <td>INDEPENDANTS</td>\n",
       "      <td>62570</td>\n",
       "      <td>PLACE JEAN JAURES</td>\n",
       "      <td>ALLAN</td>\n",
       "      <td>FR01_ON_2000</td>\n",
       "      <td>FR01_ON_2006</td>\n",
       "      <td>62.0</td>\n",
       "      <td>50.6978</td>\n",
       "      <td>2.2423</td>\n",
       "    </tr>\n",
       "    <tr>\n",
       "      <th>11</th>\n",
       "      <td>29379853</td>\n",
       "      <td>C10</td>\n",
       "      <td>70110</td>\n",
       "      <td>ROUTE D'HERICOURT</td>\n",
       "      <td>DAMIDEAUX MICHEL BOISSONS</td>\n",
       "      <td>FR01_ON_3000</td>\n",
       "      <td>FR01_ON_3006</td>\n",
       "      <td>70.0</td>\n",
       "      <td>47.5382</td>\n",
       "      <td>6.4026</td>\n",
       "    </tr>\n",
       "    <tr>\n",
       "      <th>23</th>\n",
       "      <td>29379855</td>\n",
       "      <td>C10</td>\n",
       "      <td>83630</td>\n",
       "      <td>ZA LES UCHANES</td>\n",
       "      <td>OLIVIER FRERES</td>\n",
       "      <td>FR01_ON_6000</td>\n",
       "      <td>FR01_ON_6007</td>\n",
       "      <td>83.0</td>\n",
       "      <td>43.7330</td>\n",
       "      <td>6.1765</td>\n",
       "    </tr>\n",
       "    <tr>\n",
       "      <th>35</th>\n",
       "      <td>29379861</td>\n",
       "      <td>C10</td>\n",
       "      <td>85700</td>\n",
       "      <td>AVENUE DE LA SEVRE</td>\n",
       "      <td>VINS REMY LIBOUREAU</td>\n",
       "      <td>FR01_ON_1200</td>\n",
       "      <td>FR01_ON_1201</td>\n",
       "      <td>85.0</td>\n",
       "      <td>46.8354</td>\n",
       "      <td>-0.7778</td>\n",
       "    </tr>\n",
       "    <tr>\n",
       "      <th>...</th>\n",
       "      <td>...</td>\n",
       "      <td>...</td>\n",
       "      <td>...</td>\n",
       "      <td>...</td>\n",
       "      <td>...</td>\n",
       "      <td>...</td>\n",
       "      <td>...</td>\n",
       "      <td>...</td>\n",
       "      <td>...</td>\n",
       "      <td>...</td>\n",
       "    </tr>\n",
       "    <tr>\n",
       "      <th>69291</th>\n",
       "      <td>29643421</td>\n",
       "      <td>NATIONAL CUSTOMER</td>\n",
       "      <td>77140</td>\n",
       "      <td>4 RUE DES PALIS</td>\n",
       "      <td>STEF Logistique Nemours</td>\n",
       "      <td>3M</td>\n",
       "      <td>3M</td>\n",
       "      <td>77.0</td>\n",
       "      <td>48.2751</td>\n",
       "      <td>2.6908</td>\n",
       "    </tr>\n",
       "    <tr>\n",
       "      <th>69337</th>\n",
       "      <td>29986364</td>\n",
       "      <td>NATIONAL CUSTOMER</td>\n",
       "      <td>78120</td>\n",
       "      <td>3 RUE JOSEPH JACQUARD ZA BU BEL AIR</td>\n",
       "      <td>SAS FILL</td>\n",
       "      <td>3M</td>\n",
       "      <td>3M</td>\n",
       "      <td>78.0</td>\n",
       "      <td>48.6167</td>\n",
       "      <td>1.9167</td>\n",
       "    </tr>\n",
       "    <tr>\n",
       "      <th>69430</th>\n",
       "      <td>40001857</td>\n",
       "      <td>NATIONAL CUSTOMER</td>\n",
       "      <td>94320</td>\n",
       "      <td>NaN</td>\n",
       "      <td>NICOLAS</td>\n",
       "      <td>3M</td>\n",
       "      <td>3M</td>\n",
       "      <td>94.0</td>\n",
       "      <td>48.7650</td>\n",
       "      <td>2.3961</td>\n",
       "    </tr>\n",
       "    <tr>\n",
       "      <th>69554</th>\n",
       "      <td>29983887</td>\n",
       "      <td>NATIONAL CUSTOMER</td>\n",
       "      <td>26300</td>\n",
       "      <td>10 RUE DE L'ABBAYE DE LEONCEL</td>\n",
       "      <td>MY BEERS</td>\n",
       "      <td>3M</td>\n",
       "      <td>3M</td>\n",
       "      <td>26.0</td>\n",
       "      <td>44.9975</td>\n",
       "      <td>5.1859</td>\n",
       "    </tr>\n",
       "    <tr>\n",
       "      <th>69643</th>\n",
       "      <td>29801344</td>\n",
       "      <td>NATIONAL CUSTOMER</td>\n",
       "      <td>91919</td>\n",
       "      <td>RUE DU DESIR PREVOST</td>\n",
       "      <td>STEF Logistiques Restauration</td>\n",
       "      <td>3M</td>\n",
       "      <td>3M</td>\n",
       "      <td>91.0</td>\n",
       "      <td>NaN</td>\n",
       "      <td>NaN</td>\n",
       "    </tr>\n",
       "  </tbody>\n",
       "</table>\n",
       "<p>179 rows × 10 columns</p>\n",
       "</div>"
      ],
      "text/plain": [
       "       PedidoAtacadistaId AtacadistaGrupoImpostoPreco  AtacadistaCodigoPostal  \\\n",
       "0                29606863             FRANCE BOISSONS                   59160   \n",
       "4                29378784                INDEPENDANTS                   62570   \n",
       "11               29379853                         C10                   70110   \n",
       "23               29379855                         C10                   83630   \n",
       "35               29379861                         C10                   85700   \n",
       "...                   ...                         ...                     ...   \n",
       "69291            29643421           NATIONAL CUSTOMER                   77140   \n",
       "69337            29986364           NATIONAL CUSTOMER                   78120   \n",
       "69430            40001857           NATIONAL CUSTOMER                   94320   \n",
       "69554            29983887           NATIONAL CUSTOMER                   26300   \n",
       "69643            29801344           NATIONAL CUSTOMER                   91919   \n",
       "\n",
       "                     AtacadistaRuaEndereco             AtacadistaSubgrupo  \\\n",
       "0               RUE DU CHEMIN SAINT MARTIN                France BOISSONS   \n",
       "4                        PLACE JEAN JAURES                          ALLAN   \n",
       "11                       ROUTE D'HERICOURT      DAMIDEAUX MICHEL BOISSONS   \n",
       "23                          ZA LES UCHANES                 OLIVIER FRERES   \n",
       "35                      AVENUE DE LA SEVRE            VINS REMY LIBOUREAU   \n",
       "...                                    ...                            ...   \n",
       "69291                      4 RUE DES PALIS        STEF Logistique Nemours   \n",
       "69337  3 RUE JOSEPH JACQUARD ZA BU BEL AIR                       SAS FILL   \n",
       "69430                                  NaN                        NICOLAS   \n",
       "69554        10 RUE DE L'ABBAYE DE LEONCEL                       MY BEERS   \n",
       "69643                 RUE DU DESIR PREVOST  STEF Logistiques Restauration   \n",
       "\n",
       "      AtacadistaLocalizacaoId AtacadistaSubLocalizacaoId  \\\n",
       "0                FR01_ON_1000               FR01_ON_1004   \n",
       "4                FR01_ON_2000               FR01_ON_2006   \n",
       "11               FR01_ON_3000               FR01_ON_3006   \n",
       "23               FR01_ON_6000               FR01_ON_6007   \n",
       "35               FR01_ON_1200               FR01_ON_1201   \n",
       "...                       ...                        ...   \n",
       "69291                      3M                         3M   \n",
       "69337                      3M                         3M   \n",
       "69430                      3M                         3M   \n",
       "69554                      3M                         3M   \n",
       "69643                      3M                         3M   \n",
       "\n",
       "       AtacadistaDepartamento  AtacadistaLatitude  AtacadistaLongitude  \n",
       "0                        59.0             50.6455               2.9619  \n",
       "4                        62.0             50.6978               2.2423  \n",
       "11                       70.0             47.5382               6.4026  \n",
       "23                       83.0             43.7330               6.1765  \n",
       "35                       85.0             46.8354              -0.7778  \n",
       "...                       ...                 ...                  ...  \n",
       "69291                    77.0             48.2751               2.6908  \n",
       "69337                    78.0             48.6167               1.9167  \n",
       "69430                    94.0             48.7650               2.3961  \n",
       "69554                    26.0             44.9975               5.1859  \n",
       "69643                    91.0                 NaN                  NaN  \n",
       "\n",
       "[179 rows x 10 columns]"
      ]
     },
     "execution_count": 8,
     "metadata": {},
     "output_type": "execute_result"
    }
   ],
   "source": [
    "df_atacadista"
   ]
  },
  {
   "cell_type": "code",
   "execution_count": 9,
   "metadata": {},
   "outputs": [],
   "source": [
    "url = 'https://maps.googleapis.com/maps/api/geocode/json?address={}&key='\n",
    "from requests import get"
   ]
  },
  {
   "cell_type": "code",
   "execution_count": 10,
   "metadata": {},
   "outputs": [],
   "source": [
    "def get_location(street: str) -> dict:\n",
    "\n",
    "    response = get(url.format(street))\n",
    "\n",
    "    if response.status_code != 200:\n",
    "        return None\n",
    "\n",
    "    result = dict(response.json())\n",
    "    componentes = result['results'][0]['address_components'] if len(result['results']) == 1 else []\n",
    "    if len(componentes) == 0:\n",
    "        return None\n",
    "    \n",
    "    result = {'country': None, 'state': None, 'city': None, 'neighborhood': ''}\n",
    "\n",
    "    country = list(filter(lambda x: 'country' in x['types'], componentes))\n",
    "    state = list(filter(lambda x: 'administrative_area_level_1' in x['types'], componentes))\n",
    "    city = list(filter(lambda x: 'route' in x['types'], componentes)) or list(filter(lambda x: 'locality' in x['types'], componentes))\n",
    "    neighborhood = list(filter(lambda x: 'neighborhood'in x['types'], componentes)) or list(filter(lambda x: 'sublocality_level_1' in x['types'], componentes))\n",
    "\n",
    "\n",
    "    if len(country) == 1 and 'long_name' in country[0].keys():\n",
    "        result['country'] = country[0]['long_name']\n",
    "\n",
    "    if len(state) == 1 and 'long_name' in state[0].keys():\n",
    "        result['state'] = state[0]['long_name']\n",
    "\n",
    "    if len(city) == 1 and 'long_name' in city[0].keys():\n",
    "        result['city'] = city[0]['long_name']\n",
    "\n",
    "    if len(neighborhood) == 1 and 'long_name' in neighborhood[0].keys():\n",
    "        result['neighborhood'] = neighborhood[0]['long_name']\n",
    "\n",
    "    return result"
   ]
  },
  {
   "cell_type": "code",
   "execution_count": 11,
   "metadata": {},
   "outputs": [
    {
     "data": {
      "text/plain": [
       "{'country': 'France',\n",
       " 'state': 'Auvergne-Rhône-Alpes',\n",
       " 'city': 'Léoncel',\n",
       " 'neighborhood': ''}"
      ]
     },
     "execution_count": 11,
     "metadata": {},
     "output_type": "execute_result"
    }
   ],
   "source": [
    "get_location(\"10 RUE DE L'ABBAYE DE LEONCEL\")"
   ]
  },
  {
   "cell_type": "code",
   "execution_count": 12,
   "metadata": {},
   "outputs": [
    {
     "name": "stderr",
     "output_type": "stream",
     "text": [
      "C:\\Users\\angel\\anaconda3\\lib\\site-packages\\pandas\\core\\series.py:4463: SettingWithCopyWarning: \n",
      "A value is trying to be set on a copy of a slice from a DataFrame\n",
      "\n",
      "See the caveats in the documentation: https://pandas.pydata.org/pandas-docs/stable/user_guide/indexing.html#returning-a-view-versus-a-copy\n",
      "  return super().fillna(\n"
     ]
    }
   ],
   "source": [
    "df_atacadista['AtacadistaRuaEndereco'].fillna('', inplace=True)"
   ]
  },
  {
   "cell_type": "code",
   "execution_count": 13,
   "metadata": {},
   "outputs": [],
   "source": [
    "location_data = []\n",
    "\n",
    "for street in df['AtacadistaRuaEndereco'].unique():\n",
    "    data = get_location(street)\n",
    "    if data:\n",
    "        data['key'] = street\n",
    "        location_data.append(data)"
   ]
  },
  {
   "cell_type": "code",
   "execution_count": 14,
   "metadata": {},
   "outputs": [
    {
     "data": {
      "text/plain": [
       "[{'country': 'France',\n",
       "  'state': 'Hauts-de-France',\n",
       "  'city': 'Rue du Chemin Saint-Martin',\n",
       "  'neighborhood': '',\n",
       "  'key': 'RUE DU CHEMIN SAINT MARTIN'},\n",
       " {'country': 'France',\n",
       "  'state': 'Occitanie',\n",
       "  'city': 'Place Jean Jaurès',\n",
       "  'neighborhood': '',\n",
       "  'key': 'PLACE JEAN JAURES'}]"
      ]
     },
     "execution_count": 14,
     "metadata": {},
     "output_type": "execute_result"
    }
   ],
   "source": [
    "location_data[0:2]"
   ]
  },
  {
   "cell_type": "code",
   "execution_count": 15,
   "metadata": {},
   "outputs": [],
   "source": [
    "df_atacadista = pd.merge(df_atacadista, pd.DataFrame(location_data), left_on='AtacadistaRuaEndereco', right_on='key', how='left')\n",
    "df_atacadista.drop(columns=['key'], inplace=True)"
   ]
  },
  {
   "cell_type": "code",
   "execution_count": 16,
   "metadata": {},
   "outputs": [
    {
     "data": {
      "text/html": [
       "<div>\n",
       "<style scoped>\n",
       "    .dataframe tbody tr th:only-of-type {\n",
       "        vertical-align: middle;\n",
       "    }\n",
       "\n",
       "    .dataframe tbody tr th {\n",
       "        vertical-align: top;\n",
       "    }\n",
       "\n",
       "    .dataframe thead th {\n",
       "        text-align: right;\n",
       "    }\n",
       "</style>\n",
       "<table border=\"1\" class=\"dataframe\">\n",
       "  <thead>\n",
       "    <tr style=\"text-align: right;\">\n",
       "      <th></th>\n",
       "      <th>PedidoAtacadistaId</th>\n",
       "      <th>AtacadistaGrupoImpostoPreco</th>\n",
       "      <th>AtacadistaCodigoPostal</th>\n",
       "      <th>AtacadistaRuaEndereco</th>\n",
       "      <th>AtacadistaSubgrupo</th>\n",
       "      <th>AtacadistaLocalizacaoId</th>\n",
       "      <th>AtacadistaSubLocalizacaoId</th>\n",
       "      <th>AtacadistaDepartamento</th>\n",
       "      <th>AtacadistaLatitude</th>\n",
       "      <th>AtacadistaLongitude</th>\n",
       "      <th>country</th>\n",
       "      <th>state</th>\n",
       "      <th>city</th>\n",
       "      <th>neighborhood</th>\n",
       "    </tr>\n",
       "  </thead>\n",
       "  <tbody>\n",
       "    <tr>\n",
       "      <th>0</th>\n",
       "      <td>29606863</td>\n",
       "      <td>FRANCE BOISSONS</td>\n",
       "      <td>59160</td>\n",
       "      <td>RUE DU CHEMIN SAINT MARTIN</td>\n",
       "      <td>France BOISSONS</td>\n",
       "      <td>FR01_ON_1000</td>\n",
       "      <td>FR01_ON_1004</td>\n",
       "      <td>59.0</td>\n",
       "      <td>50.6455</td>\n",
       "      <td>2.9619</td>\n",
       "      <td>France</td>\n",
       "      <td>Hauts-de-France</td>\n",
       "      <td>Rue du Chemin Saint-Martin</td>\n",
       "      <td></td>\n",
       "    </tr>\n",
       "    <tr>\n",
       "      <th>1</th>\n",
       "      <td>29378784</td>\n",
       "      <td>INDEPENDANTS</td>\n",
       "      <td>62570</td>\n",
       "      <td>PLACE JEAN JAURES</td>\n",
       "      <td>ALLAN</td>\n",
       "      <td>FR01_ON_2000</td>\n",
       "      <td>FR01_ON_2006</td>\n",
       "      <td>62.0</td>\n",
       "      <td>50.6978</td>\n",
       "      <td>2.2423</td>\n",
       "      <td>France</td>\n",
       "      <td>Occitanie</td>\n",
       "      <td>Place Jean Jaurès</td>\n",
       "      <td></td>\n",
       "    </tr>\n",
       "    <tr>\n",
       "      <th>2</th>\n",
       "      <td>29379853</td>\n",
       "      <td>C10</td>\n",
       "      <td>70110</td>\n",
       "      <td>ROUTE D'HERICOURT</td>\n",
       "      <td>DAMIDEAUX MICHEL BOISSONS</td>\n",
       "      <td>FR01_ON_3000</td>\n",
       "      <td>FR01_ON_3006</td>\n",
       "      <td>70.0</td>\n",
       "      <td>47.5382</td>\n",
       "      <td>6.4026</td>\n",
       "      <td>France</td>\n",
       "      <td>Normandie</td>\n",
       "      <td>Avenue d'Harcourt</td>\n",
       "      <td></td>\n",
       "    </tr>\n",
       "    <tr>\n",
       "      <th>3</th>\n",
       "      <td>29379855</td>\n",
       "      <td>C10</td>\n",
       "      <td>83630</td>\n",
       "      <td>ZA LES UCHANES</td>\n",
       "      <td>OLIVIER FRERES</td>\n",
       "      <td>FR01_ON_6000</td>\n",
       "      <td>FR01_ON_6007</td>\n",
       "      <td>83.0</td>\n",
       "      <td>43.7330</td>\n",
       "      <td>6.1765</td>\n",
       "      <td>France</td>\n",
       "      <td>Provence-Alpes-Côte d'Azur</td>\n",
       "      <td>Route de Sillans</td>\n",
       "      <td></td>\n",
       "    </tr>\n",
       "    <tr>\n",
       "      <th>4</th>\n",
       "      <td>29379861</td>\n",
       "      <td>C10</td>\n",
       "      <td>85700</td>\n",
       "      <td>AVENUE DE LA SEVRE</td>\n",
       "      <td>VINS REMY LIBOUREAU</td>\n",
       "      <td>FR01_ON_1200</td>\n",
       "      <td>FR01_ON_1201</td>\n",
       "      <td>85.0</td>\n",
       "      <td>46.8354</td>\n",
       "      <td>-0.7778</td>\n",
       "      <td>France</td>\n",
       "      <td>Île-de-France</td>\n",
       "      <td>Rue de Sèvres</td>\n",
       "      <td></td>\n",
       "    </tr>\n",
       "  </tbody>\n",
       "</table>\n",
       "</div>"
      ],
      "text/plain": [
       "   PedidoAtacadistaId AtacadistaGrupoImpostoPreco  AtacadistaCodigoPostal  \\\n",
       "0            29606863             FRANCE BOISSONS                   59160   \n",
       "1            29378784                INDEPENDANTS                   62570   \n",
       "2            29379853                         C10                   70110   \n",
       "3            29379855                         C10                   83630   \n",
       "4            29379861                         C10                   85700   \n",
       "\n",
       "        AtacadistaRuaEndereco         AtacadistaSubgrupo  \\\n",
       "0  RUE DU CHEMIN SAINT MARTIN            France BOISSONS   \n",
       "1           PLACE JEAN JAURES                      ALLAN   \n",
       "2           ROUTE D'HERICOURT  DAMIDEAUX MICHEL BOISSONS   \n",
       "3              ZA LES UCHANES             OLIVIER FRERES   \n",
       "4          AVENUE DE LA SEVRE        VINS REMY LIBOUREAU   \n",
       "\n",
       "  AtacadistaLocalizacaoId AtacadistaSubLocalizacaoId  AtacadistaDepartamento  \\\n",
       "0            FR01_ON_1000               FR01_ON_1004                    59.0   \n",
       "1            FR01_ON_2000               FR01_ON_2006                    62.0   \n",
       "2            FR01_ON_3000               FR01_ON_3006                    70.0   \n",
       "3            FR01_ON_6000               FR01_ON_6007                    83.0   \n",
       "4            FR01_ON_1200               FR01_ON_1201                    85.0   \n",
       "\n",
       "   AtacadistaLatitude  AtacadistaLongitude country  \\\n",
       "0             50.6455               2.9619  France   \n",
       "1             50.6978               2.2423  France   \n",
       "2             47.5382               6.4026  France   \n",
       "3             43.7330               6.1765  France   \n",
       "4             46.8354              -0.7778  France   \n",
       "\n",
       "                        state                        city neighborhood  \n",
       "0             Hauts-de-France  Rue du Chemin Saint-Martin               \n",
       "1                   Occitanie           Place Jean Jaurès               \n",
       "2                   Normandie           Avenue d'Harcourt               \n",
       "3  Provence-Alpes-Côte d'Azur            Route de Sillans               \n",
       "4               Île-de-France               Rue de Sèvres               "
      ]
     },
     "execution_count": 16,
     "metadata": {},
     "output_type": "execute_result"
    }
   ],
   "source": [
    "df_atacadista.head()"
   ]
  },
  {
   "cell_type": "code",
   "execution_count": 17,
   "metadata": {},
   "outputs": [],
   "source": [
    "df = df_atacadista[['PedidoAtacadistaId', 'AtacadistaGrupoImpostoPreco', 'AtacadistaSubgrupo', 'AtacadistaLocalizacaoId', 'AtacadistaDepartamento', 'country', 'state', 'city']]"
   ]
  },
  {
   "cell_type": "code",
   "execution_count": 18,
   "metadata": {},
   "outputs": [
    {
     "data": {
      "text/html": [
       "<div>\n",
       "<style scoped>\n",
       "    .dataframe tbody tr th:only-of-type {\n",
       "        vertical-align: middle;\n",
       "    }\n",
       "\n",
       "    .dataframe tbody tr th {\n",
       "        vertical-align: top;\n",
       "    }\n",
       "\n",
       "    .dataframe thead th {\n",
       "        text-align: right;\n",
       "    }\n",
       "</style>\n",
       "<table border=\"1\" class=\"dataframe\">\n",
       "  <thead>\n",
       "    <tr style=\"text-align: right;\">\n",
       "      <th></th>\n",
       "      <th>PedidoAtacadistaId</th>\n",
       "      <th>AtacadistaGrupoImpostoPreco</th>\n",
       "      <th>AtacadistaSubgrupo</th>\n",
       "      <th>AtacadistaLocalizacaoId</th>\n",
       "      <th>AtacadistaDepartamento</th>\n",
       "      <th>country</th>\n",
       "      <th>state</th>\n",
       "      <th>city</th>\n",
       "    </tr>\n",
       "  </thead>\n",
       "  <tbody>\n",
       "    <tr>\n",
       "      <th>0</th>\n",
       "      <td>29606863</td>\n",
       "      <td>FRANCE BOISSONS</td>\n",
       "      <td>France BOISSONS</td>\n",
       "      <td>FR01_ON_1000</td>\n",
       "      <td>59.0</td>\n",
       "      <td>France</td>\n",
       "      <td>Hauts-de-France</td>\n",
       "      <td>Rue du Chemin Saint-Martin</td>\n",
       "    </tr>\n",
       "    <tr>\n",
       "      <th>1</th>\n",
       "      <td>29378784</td>\n",
       "      <td>INDEPENDANTS</td>\n",
       "      <td>ALLAN</td>\n",
       "      <td>FR01_ON_2000</td>\n",
       "      <td>62.0</td>\n",
       "      <td>France</td>\n",
       "      <td>Occitanie</td>\n",
       "      <td>Place Jean Jaurès</td>\n",
       "    </tr>\n",
       "    <tr>\n",
       "      <th>2</th>\n",
       "      <td>29379853</td>\n",
       "      <td>C10</td>\n",
       "      <td>DAMIDEAUX MICHEL BOISSONS</td>\n",
       "      <td>FR01_ON_3000</td>\n",
       "      <td>70.0</td>\n",
       "      <td>France</td>\n",
       "      <td>Normandie</td>\n",
       "      <td>Avenue d'Harcourt</td>\n",
       "    </tr>\n",
       "    <tr>\n",
       "      <th>3</th>\n",
       "      <td>29379855</td>\n",
       "      <td>C10</td>\n",
       "      <td>OLIVIER FRERES</td>\n",
       "      <td>FR01_ON_6000</td>\n",
       "      <td>83.0</td>\n",
       "      <td>France</td>\n",
       "      <td>Provence-Alpes-Côte d'Azur</td>\n",
       "      <td>Route de Sillans</td>\n",
       "    </tr>\n",
       "    <tr>\n",
       "      <th>4</th>\n",
       "      <td>29379861</td>\n",
       "      <td>C10</td>\n",
       "      <td>VINS REMY LIBOUREAU</td>\n",
       "      <td>FR01_ON_1200</td>\n",
       "      <td>85.0</td>\n",
       "      <td>France</td>\n",
       "      <td>Île-de-France</td>\n",
       "      <td>Rue de Sèvres</td>\n",
       "    </tr>\n",
       "  </tbody>\n",
       "</table>\n",
       "</div>"
      ],
      "text/plain": [
       "   PedidoAtacadistaId AtacadistaGrupoImpostoPreco         AtacadistaSubgrupo  \\\n",
       "0            29606863             FRANCE BOISSONS            France BOISSONS   \n",
       "1            29378784                INDEPENDANTS                      ALLAN   \n",
       "2            29379853                         C10  DAMIDEAUX MICHEL BOISSONS   \n",
       "3            29379855                         C10             OLIVIER FRERES   \n",
       "4            29379861                         C10        VINS REMY LIBOUREAU   \n",
       "\n",
       "  AtacadistaLocalizacaoId  AtacadistaDepartamento country  \\\n",
       "0            FR01_ON_1000                    59.0  France   \n",
       "1            FR01_ON_2000                    62.0  France   \n",
       "2            FR01_ON_3000                    70.0  France   \n",
       "3            FR01_ON_6000                    83.0  France   \n",
       "4            FR01_ON_1200                    85.0  France   \n",
       "\n",
       "                        state                        city  \n",
       "0             Hauts-de-France  Rue du Chemin Saint-Martin  \n",
       "1                   Occitanie           Place Jean Jaurès  \n",
       "2                   Normandie           Avenue d'Harcourt  \n",
       "3  Provence-Alpes-Côte d'Azur            Route de Sillans  \n",
       "4               Île-de-France               Rue de Sèvres  "
      ]
     },
     "execution_count": 18,
     "metadata": {},
     "output_type": "execute_result"
    }
   ],
   "source": [
    "df.head()"
   ]
  },
  {
   "cell_type": "code",
   "execution_count": 19,
   "metadata": {},
   "outputs": [
    {
     "data": {
      "text/plain": [
       "France           118\n",
       "Canada            10\n",
       "United States      6\n",
       "Luxembourg         2\n",
       "Belgium            1\n",
       "Switzerland        1\n",
       "Lebanon            1\n",
       "Name: country, dtype: int64"
      ]
     },
     "execution_count": 19,
     "metadata": {},
     "output_type": "execute_result"
    }
   ],
   "source": [
    "df['country'].value_counts()"
   ]
  },
  {
   "cell_type": "code",
   "execution_count": 20,
   "metadata": {},
   "outputs": [
    {
     "data": {
      "text/plain": [
       "Île-de-France                     29\n",
       "Auvergne-Rhône-Alpes              14\n",
       "Hauts-de-France                   13\n",
       "Occitanie                         12\n",
       "Nouvelle-Aquitaine                11\n",
       "Provence-Alpes-Côte d'Azur         8\n",
       "Québec                             8\n",
       "Bretagne                           7\n",
       "Centre-Val de Loire                7\n",
       "Grand Est                          6\n",
       "Normandie                          4\n",
       "Pays de la Loire                   4\n",
       "California                         2\n",
       "Bourgogne-Franche-Comté            2\n",
       "Quebec                             2\n",
       "New York                           2\n",
       "District de Luxembourg             2\n",
       "Massachusetts                      1\n",
       "Beirut Governorate                 1\n",
       "Brittany                           1\n",
       "Genève                             1\n",
       "Rhode Island                       1\n",
       "Brussels Hoofdstedelijk Gewest     1\n",
       "Name: state, dtype: int64"
      ]
     },
     "execution_count": 20,
     "metadata": {},
     "output_type": "execute_result"
    }
   ],
   "source": [
    "df['state'].value_counts()"
   ]
  },
  {
   "cell_type": "code",
   "execution_count": 21,
   "metadata": {},
   "outputs": [
    {
     "data": {
      "text/plain": [
       "Main Street                 2\n",
       "Impasse des Marsouins       2\n",
       "Rue de Bonnevoie            1\n",
       "Boulevard Léon Bollée       1\n",
       "Avenue de l'Eguillette      1\n",
       "                           ..\n",
       "Avenue des Eaux Blanches    1\n",
       "Chemin des Margueritois     1\n",
       "Chemin Ormissets Zi         1\n",
       "Rue du Grand Clos           1\n",
       "Rue Maurice Utrillo         1\n",
       "Name: city, Length: 136, dtype: int64"
      ]
     },
     "execution_count": 21,
     "metadata": {},
     "output_type": "execute_result"
    }
   ],
   "source": [
    "df['city'].value_counts()"
   ]
  },
  {
   "cell_type": "code",
   "execution_count": 22,
   "metadata": {},
   "outputs": [],
   "source": [
    "from sklearn.preprocessing import LabelEncoder\n",
    "\n",
    "df_feature = pd.DataFrame(df[['PedidoAtacadistaId', 'AtacadistaDepartamento']], index=df.index)\n",
    "encoders_atacadista = {}\n",
    "\n",
    "for column in df[['AtacadistaGrupoImpostoPreco', 'AtacadistaSubgrupo', 'AtacadistaLocalizacaoId', 'AtacadistaDepartamento', 'country', 'state', 'city']].columns:\n",
    "    encoders_atacadista[column] = LabelEncoder()\n",
    "    df_feature[column] = encoders_atacadista[column].fit_transform(df[column])"
   ]
  },
  {
   "cell_type": "code",
   "execution_count": 23,
   "metadata": {},
   "outputs": [],
   "source": [
    "from sklearn.preprocessing import MinMaxScaler\n",
    "\n",
    "scaler_atacadista = {}\n",
    "for column in df_feature.drop(columns=['PedidoAtacadistaId']).columns:\n",
    "    scaler_atacadista[column] = MinMaxScaler()\n",
    "    df_feature[column] = scaler_atacadista[column].fit_transform(df_feature[column].values.reshape(-1,1))"
   ]
  },
  {
   "cell_type": "code",
   "execution_count": 24,
   "metadata": {},
   "outputs": [
    {
     "data": {
      "text/html": [
       "<div>\n",
       "<style scoped>\n",
       "    .dataframe tbody tr th:only-of-type {\n",
       "        vertical-align: middle;\n",
       "    }\n",
       "\n",
       "    .dataframe tbody tr th {\n",
       "        vertical-align: top;\n",
       "    }\n",
       "\n",
       "    .dataframe thead th {\n",
       "        text-align: right;\n",
       "    }\n",
       "</style>\n",
       "<table border=\"1\" class=\"dataframe\">\n",
       "  <thead>\n",
       "    <tr style=\"text-align: right;\">\n",
       "      <th></th>\n",
       "      <th>PedidoAtacadistaId</th>\n",
       "      <th>AtacadistaDepartamento</th>\n",
       "      <th>AtacadistaGrupoImpostoPreco</th>\n",
       "      <th>AtacadistaSubgrupo</th>\n",
       "      <th>AtacadistaLocalizacaoId</th>\n",
       "      <th>country</th>\n",
       "      <th>state</th>\n",
       "      <th>city</th>\n",
       "    </tr>\n",
       "  </thead>\n",
       "  <tbody>\n",
       "    <tr>\n",
       "      <th>0</th>\n",
       "      <td>29606863</td>\n",
       "      <td>0.539474</td>\n",
       "      <td>0.50</td>\n",
       "      <td>0.410714</td>\n",
       "      <td>0.076923</td>\n",
       "      <td>0.285714</td>\n",
       "      <td>0.478261</td>\n",
       "      <td>0.817518</td>\n",
       "    </tr>\n",
       "    <tr>\n",
       "      <th>1</th>\n",
       "      <td>29378784</td>\n",
       "      <td>0.565789</td>\n",
       "      <td>0.75</td>\n",
       "      <td>0.017857</td>\n",
       "      <td>0.384615</td>\n",
       "      <td>0.285714</td>\n",
       "      <td>0.695652</td>\n",
       "      <td>0.335766</td>\n",
       "    </tr>\n",
       "    <tr>\n",
       "      <th>2</th>\n",
       "      <td>29379853</td>\n",
       "      <td>0.671053</td>\n",
       "      <td>0.00</td>\n",
       "      <td>0.250000</td>\n",
       "      <td>0.461538</td>\n",
       "      <td>0.285714</td>\n",
       "      <td>0.608696</td>\n",
       "      <td>0.065693</td>\n",
       "    </tr>\n",
       "    <tr>\n",
       "      <th>3</th>\n",
       "      <td>29379855</td>\n",
       "      <td>0.842105</td>\n",
       "      <td>0.00</td>\n",
       "      <td>0.660714</td>\n",
       "      <td>0.692308</td>\n",
       "      <td>0.285714</td>\n",
       "      <td>0.782609</td>\n",
       "      <td>0.401460</td>\n",
       "    </tr>\n",
       "    <tr>\n",
       "      <th>4</th>\n",
       "      <td>29379861</td>\n",
       "      <td>0.868421</td>\n",
       "      <td>0.00</td>\n",
       "      <td>0.991071</td>\n",
       "      <td>0.230769</td>\n",
       "      <td>0.285714</td>\n",
       "      <td>0.956522</td>\n",
       "      <td>0.708029</td>\n",
       "    </tr>\n",
       "  </tbody>\n",
       "</table>\n",
       "</div>"
      ],
      "text/plain": [
       "   PedidoAtacadistaId  AtacadistaDepartamento  AtacadistaGrupoImpostoPreco  \\\n",
       "0            29606863                0.539474                         0.50   \n",
       "1            29378784                0.565789                         0.75   \n",
       "2            29379853                0.671053                         0.00   \n",
       "3            29379855                0.842105                         0.00   \n",
       "4            29379861                0.868421                         0.00   \n",
       "\n",
       "   AtacadistaSubgrupo  AtacadistaLocalizacaoId   country     state      city  \n",
       "0            0.410714                 0.076923  0.285714  0.478261  0.817518  \n",
       "1            0.017857                 0.384615  0.285714  0.695652  0.335766  \n",
       "2            0.250000                 0.461538  0.285714  0.608696  0.065693  \n",
       "3            0.660714                 0.692308  0.285714  0.782609  0.401460  \n",
       "4            0.991071                 0.230769  0.285714  0.956522  0.708029  "
      ]
     },
     "execution_count": 24,
     "metadata": {},
     "output_type": "execute_result"
    }
   ],
   "source": [
    "df_feature.head()"
   ]
  },
  {
   "cell_type": "code",
   "execution_count": 25,
   "metadata": {},
   "outputs": [],
   "source": [
    "from sklearn.cluster import KMeans\n",
    "from sklearn.decomposition import PCA"
   ]
  },
  {
   "cell_type": "code",
   "execution_count": 26,
   "metadata": {},
   "outputs": [],
   "source": [
    "def quantidade_cluster(data, max_cluster):\n",
    "    wcss = []\n",
    "    for n in range(2, max_cluster):\n",
    "        kmeans = KMeans(n_clusters=n)\n",
    "        kmeans.fit(X=data)\n",
    "        wcss.append(kmeans.inertia_)\n",
    "\n",
    "    return wcss\n",
    "\n",
    "def quantidade_cluster_otima(wcss):\n",
    "    x1, y1 = 2, wcss[0]\n",
    "    x2, y2 = 20, wcss[len(wcss)-1]\n",
    "\n",
    "    distances = []\n",
    "    for i in range(len(wcss)):\n",
    "        x0 = i+2\n",
    "        y0 = wcss[i]\n",
    "        numerator = abs((y2-y1)*x0 - (x2-x1)*y0 + x2*y1 - y2*x1)\n",
    "        denominator = np.sqrt((y2 - y1)**2 + (x2 - x1)**2)\n",
    "        distances.append(numerator/denominator)\n",
    "    \n",
    "    return distances.index(max(distances)) + 2"
   ]
  },
  {
   "cell_type": "code",
   "execution_count": 27,
   "metadata": {},
   "outputs": [
    {
     "name": "stdout",
     "output_type": "stream",
     "text": [
      "Quantidade cluster:  7\n"
     ]
    }
   ],
   "source": [
    "wcss = quantidade_cluster(df_feature.drop(columns=['PedidoAtacadistaId']), 21)\n",
    "n_cluster = quantidade_cluster_otima(wcss)\n",
    "print('Quantidade cluster: ', n_cluster)"
   ]
  },
  {
   "cell_type": "code",
   "execution_count": 28,
   "metadata": {},
   "outputs": [],
   "source": [
    "pca = PCA(n_components=2)\n",
    "components = pca.fit_transform(df_feature.drop(columns=['PedidoAtacadistaId']))"
   ]
  },
  {
   "cell_type": "code",
   "execution_count": 29,
   "metadata": {},
   "outputs": [
    {
     "name": "stdout",
     "output_type": "stream",
     "text": [
      "[0.3207065  0.19140259]\n",
      "Total de correlação explicada pelos 2 componentes principais: 0.5121090871019138\n"
     ]
    }
   ],
   "source": [
    "print(pca.explained_variance_ratio_)\n",
    "\n",
    "print('Total de correlação explicada pelos {} componentes principais: {}'.format(pca.n_components, sum(pca.explained_variance_ratio_)))"
   ]
  },
  {
   "cell_type": "code",
   "execution_count": 30,
   "metadata": {},
   "outputs": [],
   "source": [
    "knn = KMeans(n_clusters=n_cluster)\n",
    "labels = knn.fit_predict(components)"
   ]
  },
  {
   "cell_type": "code",
   "execution_count": 31,
   "metadata": {},
   "outputs": [
    {
     "data": {
      "image/png": "[encoded data removed]",
      "text/plain": [
       "<Figure size 864x576 with 1 Axes>"
      ]
     },
     "metadata": {},
     "output_type": "display_data"
    }
   ],
   "source": [
    "palette = { label: f'C{i}' for i, label in enumerate(range(knn.n_clusters))}\n",
    "\n",
    "plt.figure(figsize=(12,8))\n",
    "plt.title('Agrupamento das bebidas')\n",
    "ax = sns.scatterplot(x=components[:,0], y=components[:,1], hue=knn.labels_, palette=palette)\n",
    "sns.scatterplot(x=knn.cluster_centers_[:,0], y=knn.cluster_centers_[:,1], hue=range(knn.n_clusters), s=100, palette=palette, legend=False, ax=ax, marker='x')\n",
    "plt.legend(bbox_to_anchor=(1.02, 1), loc='upper left')\n",
    "plt.show()"
   ]
  },
  {
   "cell_type": "code",
   "execution_count": 32,
   "metadata": {},
   "outputs": [
    {
     "name": "stderr",
     "output_type": "stream",
     "text": [
      "<ipython-input-32-c2ee56dc8a09>:1: SettingWithCopyWarning: \n",
      "A value is trying to be set on a copy of a slice from a DataFrame.\n",
      "Try using .loc[row_indexer,col_indexer] = value instead\n",
      "\n",
      "See the caveats in the documentation: https://pandas.pydata.org/pandas-docs/stable/user_guide/indexing.html#returning-a-view-versus-a-copy\n",
      "  df['cluster'] = labels\n"
     ]
    }
   ],
   "source": [
    "df['cluster'] = labels\n",
    "df_feature['cluster'] = labels"
   ]
  },
  {
   "cell_type": "code",
   "execution_count": 33,
   "metadata": {},
   "outputs": [],
   "source": [
    "import pickle\n",
    "\n",
    "pickle.dump(encoders_atacadista, open('encoders_atacadista.pickle', 'wb'))\n",
    "pickle.dump(scaler_atacadista, open('scaler_atacadista.pickle', 'wb'))\n",
    "\n",
    "df.to_csv('df_atacadista.csv', header=True)\n",
    "df_feature.to_csv('df_atacadista_feature.csv', header=True)"
   ]
  },
  {
   "cell_type": "code",
   "execution_count": null,
   "metadata": {},
   "outputs": [],
   "source": []
  }
 ],
 "metadata": {
  "interpreter": {
   "hash": "2757f2c2fa6babad547f4a3642c7cf29f9f98149abb7990afbb40d637e41adc8"
  },
  "kernelspec": {
   "display_name": "Python 3.8.8 64-bit ('base': conda)",
   "name": "python3"
  },
  "language_info": {
   "codemirror_mode": {
    "name": "ipython",
    "version": 3
   },
   "file_extension": ".py",
   "mimetype": "text/x-python",
   "name": "python",
   "nbconvert_exporter": "python",
   "pygments_lexer": "ipython3",
   "version": "3.8.8"
  },
  "orig_nbformat": 4
 },
 "nbformat": 4,
 "nbformat_minor": 2
}
