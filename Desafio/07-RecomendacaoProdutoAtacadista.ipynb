{
 "cells": [
  {
   "cell_type": "code",
   "execution_count": 1,
   "metadata": {},
   "outputs": [],
   "source": [
    "import pandas as pd\n",
    "import numpy as np"
   ]
  },
  {
   "cell_type": "code",
   "execution_count": 2,
   "metadata": {},
   "outputs": [],
   "source": [
    "#!pip install tensorflow-datasets"
   ]
  },
  {
   "cell_type": "code",
   "execution_count": 3,
   "metadata": {},
   "outputs": [],
   "source": [
    "columns_map = {\n",
    "    'Doc. Date': 'PedidoDataDocumento',\n",
    "    'Material': 'PedidoProdutoId',\n",
    "    'Order qty': 'PedidoOrdem',\n",
    "    'Ship-to nu': 'PedidoAtacadistaId',\n",
    "    'PCS delivered': 'PedidoQuantidade',\n",
    "    'HL delivered': 'PedidoHectolitroEntregue',\n",
    "    'delivery_days': 'PedidoDiasEntrega',\n",
    "    'delivery_flag': 'PedidoEntregue',\n",
    "    'lead_time_creation_vs_rdd_flag': 'PedidoLeadTimeEntrega',\n",
    "    'MACO/HL ': 'PedidoContribuicaoHectolitro',\n",
    "    'Groupement': 'AtacadistaGrupoImpostoPreco',\n",
    "    'Postal Code': 'AtacadistaCodigoPostal',\n",
    "    'Street': 'AtacadistaRuaEndereco',\n",
    "    'Sous groupement': 'AtacadistaSubgrupo',\n",
    "    'M2_Territory_ID': 'AtacadistaLocalizacaoId',\n",
    "    'M1_Territory_ID': 'AtacadistaSubLocalizacaoId',\n",
    "    'Dépt': 'AtacadistaDepartamento',\n",
    "    'Brand': 'ProdutoMarca',\n",
    "    'Subrand': 'ProdutoSubmarca',\n",
    "    'SEGMENTS : Pils / Spécialités / Superspécialités/Bouteille Young adult': 'ProdutoSegmento2',\n",
    "    'Container Type': 'ProdutoTipoContainer',\n",
    "    'Container Size': 'ProdutoTamanhoContainer',\n",
    "    'Variétés': 'ProdutoVariedade',\n",
    "    'Segment LE': 'ProdutoSegmento1',\n",
    "    'Latitude': 'AtacadistaLatitude',\n",
    "    'Longitude': 'AtacadistaLongitude',\n",
    "    'Degre Alc': 'ProdutoPercentAlcoolico',\n",
    "    'TTC': 'PedidoPrecoFinalParaUmProd',\n",
    "    'Brut + TE': 'PedidoTaxas',\n",
    "    'DA': 'PedidoTaxaTransporteAereo',\n",
    "    'Net + TE - Hors majoration de rompu de palette': 'PedidoPrecoLiquidoDescontoPaliteQuebrado'\n",
    "}"
   ]
  },
  {
   "cell_type": "code",
   "execution_count": 4,
   "metadata": {},
   "outputs": [],
   "source": [
    "df = pd.read_excel('Data.xlsx')\n",
    "df.drop(columns=['Unnamed: 0'], inplace=True)\n",
    "df.columns = df.columns.map(columns_map)"
   ]
  },
  {
   "cell_type": "code",
   "execution_count": 5,
   "metadata": {},
   "outputs": [],
   "source": [
    "df_produto = pd.read_csv('produto_model.csv', index_col='Unnamed: 0')\n",
    "df_atacadista = pd.read_csv('df_atacadista.csv', index_col='Unnamed: 0')\n",
    "df_pedido = df[[column for column in df.columns if 'Pedido' in column]]"
   ]
  },
  {
   "cell_type": "code",
   "execution_count": 6,
   "metadata": {},
   "outputs": [],
   "source": [
    "df_produto.head()\n",
    "df_produto.drop(columns=['cluster'], inplace=True)"
   ]
  },
  {
   "cell_type": "code",
   "execution_count": 7,
   "metadata": {},
   "outputs": [],
   "source": [
    "df_pedido = df_pedido.reset_index(drop=True)"
   ]
  },
  {
   "cell_type": "code",
   "execution_count": 8,
   "metadata": {},
   "outputs": [
    {
     "data": {
      "text/html": [
       "<div>\n",
       "<style scoped>\n",
       "    .dataframe tbody tr th:only-of-type {\n",
       "        vertical-align: middle;\n",
       "    }\n",
       "\n",
       "    .dataframe tbody tr th {\n",
       "        vertical-align: top;\n",
       "    }\n",
       "\n",
       "    .dataframe thead th {\n",
       "        text-align: right;\n",
       "    }\n",
       "</style>\n",
       "<table border=\"1\" class=\"dataframe\">\n",
       "  <thead>\n",
       "    <tr style=\"text-align: right;\">\n",
       "      <th></th>\n",
       "      <th>PedidoDataDocumento</th>\n",
       "      <th>PedidoProdutoId</th>\n",
       "      <th>PedidoOrdem</th>\n",
       "      <th>PedidoAtacadistaId</th>\n",
       "      <th>PedidoQuantidade</th>\n",
       "      <th>PedidoHectolitroEntregue</th>\n",
       "      <th>PedidoDiasEntrega</th>\n",
       "      <th>PedidoEntregue</th>\n",
       "      <th>PedidoLeadTimeEntrega</th>\n",
       "      <th>PedidoContribuicaoHectolitro</th>\n",
       "      <th>PedidoPrecoFinalParaUmProd</th>\n",
       "      <th>PedidoTaxas</th>\n",
       "      <th>PedidoPrecoLiquidoDescontoPaliteQuebrado</th>\n",
       "      <th>PedidoTaxaTransporteAereo</th>\n",
       "    </tr>\n",
       "  </thead>\n",
       "  <tbody>\n",
       "    <tr>\n",
       "      <th>0</th>\n",
       "      <td>2021-01-11</td>\n",
       "      <td>10946</td>\n",
       "      <td>5.0</td>\n",
       "      <td>29606863</td>\n",
       "      <td>350.0</td>\n",
       "      <td>21.0</td>\n",
       "      <td>7</td>\n",
       "      <td>1</td>\n",
       "      <td>1</td>\n",
       "      <td>150.689825</td>\n",
       "      <td>18.137448</td>\n",
       "      <td>15.582</td>\n",
       "      <td>15.114540</td>\n",
       "      <td>0.0</td>\n",
       "    </tr>\n",
       "    <tr>\n",
       "      <th>1</th>\n",
       "      <td>2021-01-11</td>\n",
       "      <td>19898</td>\n",
       "      <td>2.0</td>\n",
       "      <td>29606863</td>\n",
       "      <td>140.0</td>\n",
       "      <td>8.4</td>\n",
       "      <td>7</td>\n",
       "      <td>1</td>\n",
       "      <td>1</td>\n",
       "      <td>141.207904</td>\n",
       "      <td>17.396467</td>\n",
       "      <td>14.688</td>\n",
       "      <td>14.497056</td>\n",
       "      <td>0.0</td>\n",
       "    </tr>\n",
       "    <tr>\n",
       "      <th>2</th>\n",
       "      <td>2021-01-11</td>\n",
       "      <td>80176</td>\n",
       "      <td>4.0</td>\n",
       "      <td>29606863</td>\n",
       "      <td>280.0</td>\n",
       "      <td>16.8</td>\n",
       "      <td>7</td>\n",
       "      <td>1</td>\n",
       "      <td>1</td>\n",
       "      <td>92.872307</td>\n",
       "      <td>12.279859</td>\n",
       "      <td>10.368</td>\n",
       "      <td>10.233216</td>\n",
       "      <td>0.0</td>\n",
       "    </tr>\n",
       "    <tr>\n",
       "      <th>3</th>\n",
       "      <td>2021-01-11</td>\n",
       "      <td>66989</td>\n",
       "      <td>1.0</td>\n",
       "      <td>29606863</td>\n",
       "      <td>70.0</td>\n",
       "      <td>4.2</td>\n",
       "      <td>7</td>\n",
       "      <td>1</td>\n",
       "      <td>1</td>\n",
       "      <td>195.334035</td>\n",
       "      <td>21.996000</td>\n",
       "      <td>18.330</td>\n",
       "      <td>18.330000</td>\n",
       "      <td>0.0</td>\n",
       "    </tr>\n",
       "    <tr>\n",
       "      <th>4</th>\n",
       "      <td>2021-01-08</td>\n",
       "      <td>11766</td>\n",
       "      <td>70.0</td>\n",
       "      <td>29378784</td>\n",
       "      <td>70.0</td>\n",
       "      <td>4.2</td>\n",
       "      <td>6</td>\n",
       "      <td>1</td>\n",
       "      <td>1</td>\n",
       "      <td>142.902378</td>\n",
       "      <td>17.359200</td>\n",
       "      <td>14.466</td>\n",
       "      <td>14.466000</td>\n",
       "      <td>0.0</td>\n",
       "    </tr>\n",
       "    <tr>\n",
       "      <th>...</th>\n",
       "      <td>...</td>\n",
       "      <td>...</td>\n",
       "      <td>...</td>\n",
       "      <td>...</td>\n",
       "      <td>...</td>\n",
       "      <td>...</td>\n",
       "      <td>...</td>\n",
       "      <td>...</td>\n",
       "      <td>...</td>\n",
       "      <td>...</td>\n",
       "      <td>...</td>\n",
       "      <td>...</td>\n",
       "      <td>...</td>\n",
       "      <td>...</td>\n",
       "    </tr>\n",
       "    <tr>\n",
       "      <th>73665</th>\n",
       "      <td>2019-12-30</td>\n",
       "      <td>17028</td>\n",
       "      <td>2.0</td>\n",
       "      <td>29446255</td>\n",
       "      <td>140.0</td>\n",
       "      <td>8.4</td>\n",
       "      <td>8</td>\n",
       "      <td>1</td>\n",
       "      <td>1</td>\n",
       "      <td>217.449263</td>\n",
       "      <td>23.575622</td>\n",
       "      <td>20.856</td>\n",
       "      <td>19.646352</td>\n",
       "      <td>0.0</td>\n",
       "    </tr>\n",
       "    <tr>\n",
       "      <th>73666</th>\n",
       "      <td>2019-12-30</td>\n",
       "      <td>33335</td>\n",
       "      <td>2.0</td>\n",
       "      <td>29446255</td>\n",
       "      <td>140.0</td>\n",
       "      <td>8.4</td>\n",
       "      <td>8</td>\n",
       "      <td>1</td>\n",
       "      <td>1</td>\n",
       "      <td>167.128531</td>\n",
       "      <td>19.770696</td>\n",
       "      <td>17.490</td>\n",
       "      <td>16.475580</td>\n",
       "      <td>0.0</td>\n",
       "    </tr>\n",
       "    <tr>\n",
       "      <th>73667</th>\n",
       "      <td>2019-12-30</td>\n",
       "      <td>53566</td>\n",
       "      <td>2.0</td>\n",
       "      <td>29446255</td>\n",
       "      <td>140.0</td>\n",
       "      <td>8.4</td>\n",
       "      <td>8</td>\n",
       "      <td>1</td>\n",
       "      <td>1</td>\n",
       "      <td>211.631664</td>\n",
       "      <td>23.575622</td>\n",
       "      <td>20.856</td>\n",
       "      <td>19.646352</td>\n",
       "      <td>0.0</td>\n",
       "    </tr>\n",
       "    <tr>\n",
       "      <th>73668</th>\n",
       "      <td>2019-12-30</td>\n",
       "      <td>63482</td>\n",
       "      <td>1.0</td>\n",
       "      <td>29446255</td>\n",
       "      <td>70.0</td>\n",
       "      <td>4.2</td>\n",
       "      <td>8</td>\n",
       "      <td>1</td>\n",
       "      <td>1</td>\n",
       "      <td>122.037438</td>\n",
       "      <td>14.576040</td>\n",
       "      <td>12.786</td>\n",
       "      <td>12.146700</td>\n",
       "      <td>0.0</td>\n",
       "    </tr>\n",
       "    <tr>\n",
       "      <th>73669</th>\n",
       "      <td>2019-12-30</td>\n",
       "      <td>66989</td>\n",
       "      <td>6.0</td>\n",
       "      <td>29446255</td>\n",
       "      <td>420.0</td>\n",
       "      <td>25.2</td>\n",
       "      <td>8</td>\n",
       "      <td>1</td>\n",
       "      <td>1</td>\n",
       "      <td>195.334035</td>\n",
       "      <td>21.996000</td>\n",
       "      <td>18.330</td>\n",
       "      <td>18.330000</td>\n",
       "      <td>0.0</td>\n",
       "    </tr>\n",
       "  </tbody>\n",
       "</table>\n",
       "<p>73670 rows × 14 columns</p>\n",
       "</div>"
      ],
      "text/plain": [
       "      PedidoDataDocumento  PedidoProdutoId  PedidoOrdem  PedidoAtacadistaId  \\\n",
       "0              2021-01-11            10946          5.0            29606863   \n",
       "1              2021-01-11            19898          2.0            29606863   \n",
       "2              2021-01-11            80176          4.0            29606863   \n",
       "3              2021-01-11            66989          1.0            29606863   \n",
       "4              2021-01-08            11766         70.0            29378784   \n",
       "...                   ...              ...          ...                 ...   \n",
       "73665          2019-12-30            17028          2.0            29446255   \n",
       "73666          2019-12-30            33335          2.0            29446255   \n",
       "73667          2019-12-30            53566          2.0            29446255   \n",
       "73668          2019-12-30            63482          1.0            29446255   \n",
       "73669          2019-12-30            66989          6.0            29446255   \n",
       "\n",
       "       PedidoQuantidade  PedidoHectolitroEntregue  PedidoDiasEntrega  \\\n",
       "0                 350.0                      21.0                  7   \n",
       "1                 140.0                       8.4                  7   \n",
       "2                 280.0                      16.8                  7   \n",
       "3                  70.0                       4.2                  7   \n",
       "4                  70.0                       4.2                  6   \n",
       "...                 ...                       ...                ...   \n",
       "73665             140.0                       8.4                  8   \n",
       "73666             140.0                       8.4                  8   \n",
       "73667             140.0                       8.4                  8   \n",
       "73668              70.0                       4.2                  8   \n",
       "73669             420.0                      25.2                  8   \n",
       "\n",
       "       PedidoEntregue  PedidoLeadTimeEntrega  PedidoContribuicaoHectolitro  \\\n",
       "0                   1                      1                    150.689825   \n",
       "1                   1                      1                    141.207904   \n",
       "2                   1                      1                     92.872307   \n",
       "3                   1                      1                    195.334035   \n",
       "4                   1                      1                    142.902378   \n",
       "...               ...                    ...                           ...   \n",
       "73665               1                      1                    217.449263   \n",
       "73666               1                      1                    167.128531   \n",
       "73667               1                      1                    211.631664   \n",
       "73668               1                      1                    122.037438   \n",
       "73669               1                      1                    195.334035   \n",
       "\n",
       "       PedidoPrecoFinalParaUmProd  PedidoTaxas  \\\n",
       "0                       18.137448       15.582   \n",
       "1                       17.396467       14.688   \n",
       "2                       12.279859       10.368   \n",
       "3                       21.996000       18.330   \n",
       "4                       17.359200       14.466   \n",
       "...                           ...          ...   \n",
       "73665                   23.575622       20.856   \n",
       "73666                   19.770696       17.490   \n",
       "73667                   23.575622       20.856   \n",
       "73668                   14.576040       12.786   \n",
       "73669                   21.996000       18.330   \n",
       "\n",
       "       PedidoPrecoLiquidoDescontoPaliteQuebrado  PedidoTaxaTransporteAereo  \n",
       "0                                     15.114540                        0.0  \n",
       "1                                     14.497056                        0.0  \n",
       "2                                     10.233216                        0.0  \n",
       "3                                     18.330000                        0.0  \n",
       "4                                     14.466000                        0.0  \n",
       "...                                         ...                        ...  \n",
       "73665                                 19.646352                        0.0  \n",
       "73666                                 16.475580                        0.0  \n",
       "73667                                 19.646352                        0.0  \n",
       "73668                                 12.146700                        0.0  \n",
       "73669                                 18.330000                        0.0  \n",
       "\n",
       "[73670 rows x 14 columns]"
      ]
     },
     "execution_count": 8,
     "metadata": {},
     "output_type": "execute_result"
    }
   ],
   "source": [
    "filtro_produtos = df_pedido['PedidoProdutoId'].isin(df_produto['PedidoProdutoId'])\n",
    "filtro_atacadistas = df_pedido['PedidoAtacadistaId'].isin(df_atacadista['PedidoAtacadistaId'])\n",
    "df_pedido = df_pedido[filtro_produtos & filtro_atacadistas]\n",
    "df_pedido.reset_index(drop=True, inplace=True)\n",
    "df_pedido"
   ]
  },
  {
   "cell_type": "code",
   "execution_count": 9,
   "metadata": {},
   "outputs": [],
   "source": [
    "df = df_pedido[['PedidoDataDocumento', 'PedidoProdutoId', 'PedidoAtacadistaId', 'PedidoQuantidade']]"
   ]
  },
  {
   "cell_type": "code",
   "execution_count": 10,
   "metadata": {},
   "outputs": [],
   "source": [
    "df = pd.merge(df, df_produto, how='inner', left_on='PedidoProdutoId', right_on='PedidoProdutoId')[['PedidoDataDocumento', 'PedidoProdutoId', 'PedidoAtacadistaId', 'PedidoQuantidade', 'cluster_caracteristica']]"
   ]
  },
  {
   "cell_type": "code",
   "execution_count": 11,
   "metadata": {},
   "outputs": [],
   "source": [
    "df.dropna(inplace=True)"
   ]
  },
  {
   "cell_type": "code",
   "execution_count": 12,
   "metadata": {},
   "outputs": [
    {
     "name": "stdout",
     "output_type": "stream",
     "text": [
      "<class 'pandas.core.frame.DataFrame'>\n",
      "Int64Index: 73666 entries, 0 to 73669\n",
      "Data columns (total 5 columns):\n",
      " #   Column                  Non-Null Count  Dtype         \n",
      "---  ------                  --------------  -----         \n",
      " 0   PedidoDataDocumento     73666 non-null  datetime64[ns]\n",
      " 1   PedidoProdutoId         73666 non-null  int64         \n",
      " 2   PedidoAtacadistaId      73666 non-null  int64         \n",
      " 3   PedidoQuantidade        73666 non-null  float64       \n",
      " 4   cluster_caracteristica  73666 non-null  int64         \n",
      "dtypes: datetime64[ns](1), float64(1), int64(3)\n",
      "memory usage: 3.4 MB\n"
     ]
    }
   ],
   "source": [
    "df.info()"
   ]
  },
  {
   "cell_type": "code",
   "execution_count": 13,
   "metadata": {},
   "outputs": [],
   "source": [
    "df = pd.merge(df, df_atacadista, how='inner', left_on='PedidoAtacadistaId', right_on='PedidoAtacadistaId')[['PedidoProdutoId', 'PedidoAtacadistaId', 'PedidoQuantidade', 'cluster_caracteristica', 'cluster']]"
   ]
  },
  {
   "cell_type": "code",
   "execution_count": 14,
   "metadata": {},
   "outputs": [],
   "source": [
    "df = df.rename(columns={'cluster_caracteristica': 'ProdutoCluster', 'cluster': 'AtacadistaCluster'})"
   ]
  },
  {
   "cell_type": "code",
   "execution_count": 15,
   "metadata": {},
   "outputs": [],
   "source": [
    "df.drop(df.loc[df['PedidoQuantidade'] == 0].index, inplace=True)"
   ]
  },
  {
   "cell_type": "code",
   "execution_count": 16,
   "metadata": {},
   "outputs": [],
   "source": [
    "df.to_csv('df_recomendacao.csv')"
   ]
  },
  {
   "cell_type": "code",
   "execution_count": 17,
   "metadata": {},
   "outputs": [
    {
     "name": "stdout",
     "output_type": "stream",
     "text": [
      "<class 'pandas.core.frame.DataFrame'>\n",
      "Int64Index: 68364 entries, 0 to 73665\n",
      "Data columns (total 5 columns):\n",
      " #   Column              Non-Null Count  Dtype  \n",
      "---  ------              --------------  -----  \n",
      " 0   PedidoProdutoId     68364 non-null  int64  \n",
      " 1   PedidoAtacadistaId  68364 non-null  int64  \n",
      " 2   PedidoQuantidade    68364 non-null  float64\n",
      " 3   ProdutoCluster      68364 non-null  int64  \n",
      " 4   AtacadistaCluster   68364 non-null  int64  \n",
      "dtypes: float64(1), int64(4)\n",
      "memory usage: 3.1 MB\n"
     ]
    }
   ],
   "source": [
    "df.info()"
   ]
  },
  {
   "cell_type": "code",
   "execution_count": 18,
   "metadata": {},
   "outputs": [],
   "source": [
    "import tensorflow as tf\n",
    "import tensorflow_recommenders as tfrs"
   ]
  },
  {
   "cell_type": "code",
   "execution_count": 19,
   "metadata": {},
   "outputs": [],
   "source": [
    "data = tf.data.Dataset.from_tensor_slices(\n",
    "    {\n",
    "        'PedidoProdutoId': tf.cast(df['PedidoProdutoId'], tf.int32),\n",
    "        'PedidoAtacadistaId': tf.cast(df['PedidoAtacadistaId'], tf.int32),\n",
    "        'ProdutoCluster': tf.cast(df['ProdutoCluster'], tf.int32),\n",
    "        'AtacadistaCluster': tf.cast(df['AtacadistaCluster'], tf.int32),\n",
    "        'PedidoQuantidade': tf.cast(df['PedidoQuantidade'], tf.float32),\n",
    "    } \n",
    ")"
   ]
  },
  {
   "cell_type": "code",
   "execution_count": 20,
   "metadata": {},
   "outputs": [],
   "source": [
    "tf.random.set_seed(42)\n",
    "shuffled = data.shuffle(100_000, seed=42, reshuffle_each_iteration=False)\n",
    "\n",
    "train = shuffled.take(80_000)\n",
    "test = shuffled.skip(80_000).take(20_000)"
   ]
  },
  {
   "cell_type": "code",
   "execution_count": 21,
   "metadata": {},
   "outputs": [],
   "source": [
    "features_names = ['PedidoProdutoId', 'PedidoAtacadistaId', 'ProdutoCluster', 'AtacadistaCluster']\n",
    "\n",
    "vocabularies = {}\n",
    "\n",
    "for feature_name in features_names:\n",
    "  vocab = data.batch(len(df)).map(lambda x: x[feature_name])\n",
    "  vocabularies[feature_name] = np.unique(np.concatenate(list(vocab)))"
   ]
  },
  {
   "cell_type": "code",
   "execution_count": 22,
   "metadata": {},
   "outputs": [
    {
     "data": {
      "text/plain": [
       "{'PedidoProdutoId': array([   3337,    3338,    3371,    3372,    3410,    3411,    3450,\n",
       "           3507,    3530,    3643,    5983,    6013,    6108,    9937,\n",
       "           9938,    9974,    9976,   10611,   10687,   10946,   10947,\n",
       "          10957,   10958,   10965,   11574,   11766,   15709,   15710,\n",
       "          15740,   15757,   15793,   15800,   15985,   16519,   16550,\n",
       "          17028,   18690,   18827,   19898,   20527,   20614,   21416,\n",
       "          29777,   30822,   33335,   34906,   37961,   39616,   40093,\n",
       "          43113,   45416,   45918,   46093,   47934,   48537,   48538,\n",
       "          48859,   50453,   53236,   53425,   53566,   54232,   54632,\n",
       "          54639,   55357,   57005,   58245,   58277,   58328,   58941,\n",
       "          59286,   59847,   59848,   59873,   59874,   59895,   59939,\n",
       "          59940,   59941,   59942,   60036,   60387,   60505,   61629,\n",
       "          61684,   61685,   61687,   61943,   62033,   62034,   62474,\n",
       "          62706,   62707,   62770,   63285,   63311,   63445,   63466,\n",
       "          63478,   63479,   63480,   63481,   63482,   63627,   63908,\n",
       "          64272,   64590,   64601,   64665,   65642,   65643,   65660,\n",
       "          65716,   66719,   66738,   66780,   66839,   66989,   67049,\n",
       "          67151,   67561,   67562,   68280,   68431,   69265,   69407,\n",
       "          69490,   70225,   70572,   70579,   70601,   70605,   71275,\n",
       "          71316,   71317,   72326,   72328,   72396,   72413,   72414,\n",
       "          72434,   72548,   73181,   74342,   74529,   74582,   74583,\n",
       "          75534,   75909,   76611,   76623,   76626,   76828,   76952,\n",
       "          77034,   77311,   77313,   77393,   77589,   77721,   77978,\n",
       "          77995,   78123,   78313,   78355,   78356,   79894,   79923,\n",
       "          80125,   80176,   80417,   81408,   81409,   81410,   81411,\n",
       "          82315, 7519873]),\n",
       " 'PedidoAtacadistaId': array([29378784, 29378785, 29378892, 29378895, 29378896, 29378933,\n",
       "        29378966, 29378967, 29378992, 29379001, 29379002, 29379015,\n",
       "        29379058, 29379067, 29379089, 29379101, 29379116, 29379236,\n",
       "        29379283, 29379360, 29379363, 29379377, 29379437, 29379537,\n",
       "        29379538, 29379556, 29379566, 29379593, 29379604, 29379608,\n",
       "        29379609, 29379610, 29379611, 29379612, 29379613, 29379615,\n",
       "        29379618, 29379619, 29379620, 29379621, 29379622, 29379623,\n",
       "        29379625, 29379626, 29379627, 29379628, 29379632, 29379633,\n",
       "        29379635, 29379639, 29379641, 29379642, 29379646, 29379650,\n",
       "        29379651, 29379657, 29379658, 29379661, 29379663, 29379664,\n",
       "        29379666, 29379667, 29379668, 29379671, 29379672, 29379673,\n",
       "        29379676, 29379677, 29379678, 29379680, 29379681, 29379682,\n",
       "        29379684, 29379686, 29379687, 29379690, 29379692, 29379694,\n",
       "        29379695, 29379696, 29379698, 29379701, 29379702, 29379708,\n",
       "        29379815, 29379818, 29379819, 29379820, 29379824, 29379826,\n",
       "        29379827, 29379828, 29379829, 29379830, 29379831, 29379833,\n",
       "        29379834, 29379835, 29379836, 29379838, 29379840, 29379841,\n",
       "        29379842, 29379843, 29379844, 29379845, 29379846, 29379849,\n",
       "        29379850, 29379853, 29379855, 29379857, 29379858, 29379859,\n",
       "        29379860, 29379861, 29379862, 29379863, 29379865, 29379866,\n",
       "        29379894, 29379896, 29379901, 29379905, 29379915, 29379916,\n",
       "        29425623, 29430384, 29431121, 29446255, 29537235, 29563495,\n",
       "        29563563, 29563809, 29563814, 29563817, 29563820, 29563827,\n",
       "        29563830, 29563832, 29563833, 29563834, 29563836, 29563837,\n",
       "        29564005, 29595514, 29596966, 29606863, 29607967, 29610633,\n",
       "        29630747, 29635311, 29643421, 29683450, 29722953, 29724733,\n",
       "        29727962, 29750335, 29756769, 29780131, 29793472, 29799562,\n",
       "        29801344, 29801553, 29804035, 29832988, 29833190, 29839429,\n",
       "        29840997, 29974413, 29983887, 29986364, 29988565, 29996995,\n",
       "        29996996, 40001857, 40002273, 40007881, 40016990]),\n",
       " 'ProdutoCluster': array([0, 1, 2, 3, 4, 5, 6, 7]),\n",
       " 'AtacadistaCluster': array([0, 1, 2, 3, 4, 5, 6])}"
      ]
     },
     "execution_count": 22,
     "metadata": {},
     "output_type": "execute_result"
    }
   ],
   "source": [
    "vocabularies"
   ]
  },
  {
   "cell_type": "code",
   "execution_count": 23,
   "metadata": {},
   "outputs": [],
   "source": [
    "class DCN(tfrs.Model):\n",
    "\n",
    "    def __init__(self, use_cross_layer, deep_layer_sizes, projection_dim=None):\n",
    "        super().__init__()\n",
    "\n",
    "        self.embedding_dimension = 32\n",
    "\n",
    "        self._all_features = features_names\n",
    "        self._embeddings = {}\n",
    "\n",
    "        for feature_name in self._all_features:\n",
    "            vocabulary = vocabularies[feature_name]\n",
    "            self._embeddings[feature_name] = tf.keras.Sequential(\n",
    "                [tf.keras.layers.IntegerLookup(vocabulary=vocabulary, mask_token=None),\n",
    "                tf.keras.layers.Embedding(len(vocabulary), self.embedding_dimension)])\n",
    "\n",
    "        if use_cross_layer:\n",
    "            self._cross_layer = tfrs.layers.dcn.Cross(\n",
    "                projection_dim=projection_dim,\n",
    "                kernel_initializer=\"glorot_uniform\")\n",
    "        else:\n",
    "            self._cross_layer = None\n",
    "\n",
    "        self._deep_layers = [tf.keras.layers.Dense(layer_size, activation=\"relu\")\n",
    "        for layer_size in deep_layer_sizes]\n",
    "\n",
    "        self._logit_layer = tf.keras.layers.Dense(1)\n",
    "\n",
    "        self.task = tfrs.tasks.Ranking(\n",
    "            loss=tf.keras.losses.MeanSquaredError(),\n",
    "            metrics=[tf.keras.metrics.RootMeanSquaredError(\"RMSE\")])\n",
    "\n",
    "    def call(self, features):\n",
    "        embeddings = []\n",
    "        for feature_name in self._all_features:\n",
    "            embedding_fn = self._embeddings[feature_name]\n",
    "            embeddings.append(embedding_fn(features[feature_name]))\n",
    "\n",
    "        x = tf.concat(embeddings, axis=1)\n",
    "\n",
    "        # Build Cross Network\n",
    "        if self._cross_layer is not None:\n",
    "            x = self._cross_layer(x)\n",
    "\n",
    "        # Build Deep Network\n",
    "        for deep_layer in self._deep_layers:\n",
    "            x = deep_layer(x)\n",
    "\n",
    "        return self._logit_layer(x)\n",
    "\n",
    "    def compute_loss(self, features, training=False):\n",
    "        labels = features.pop(\"PedidoQuantidade\")\n",
    "        scores = self(features)\n",
    "        return self.task(\n",
    "            labels=labels,\n",
    "            predictions=scores)"
   ]
  },
  {
   "cell_type": "code",
   "execution_count": 24,
   "metadata": {},
   "outputs": [],
   "source": [
    "epochs = 8\n",
    "learning_rate = 0.01"
   ]
  },
  {
   "cell_type": "code",
   "execution_count": 25,
   "metadata": {},
   "outputs": [],
   "source": [
    "cached_train = train.shuffle(100_000).batch(4096).cache()\n",
    "cached_test = test.batch(4096).cache()"
   ]
  },
  {
   "cell_type": "code",
   "execution_count": 30,
   "metadata": {},
   "outputs": [],
   "source": [
    "def run_models(use_cross_layer, deep_layer_sizes, projection_dim=None, num_runs=5):\n",
    "  models = []\n",
    "  rmses = []\n",
    "\n",
    "  for i in range(num_runs):\n",
    "    model = DCN(use_cross_layer=use_cross_layer,\n",
    "                deep_layer_sizes=deep_layer_sizes,\n",
    "                projection_dim=projection_dim)\n",
    "    model.compile(optimizer=tf.keras.optimizers.Adam(learning_rate))\n",
    "    models.append(model)\n",
    "\n",
    "    history = model.fit(cached_train, epochs=epochs, verbose=False)\n",
    "    print(history)\n",
    "    metrics = model.evaluate(cached_test, return_dict=True)\n",
    "    # rmses.append(metrics[\"RMSE\"])\n",
    "\n",
    "  mean, stdv = np.average(rmses), np.std(rmses)\n",
    "\n",
    "  return {\"model\": models, \"mean\": mean, \"stdv\": stdv}"
   ]
  },
  {
   "cell_type": "code",
   "execution_count": 31,
   "metadata": {},
   "outputs": [
    {
     "name": "stdout",
     "output_type": "stream",
     "text": [
      "<keras.callbacks.History object at 0x000002D458F34DF0>\n",
      "<keras.callbacks.History object at 0x000002D45E759A30>\n",
      "<keras.callbacks.History object at 0x000002D4624C1610>\n",
      "<keras.callbacks.History object at 0x000002D4646091F0>\n",
      "<keras.callbacks.History object at 0x000002D4647ADC40>\n"
     ]
    },
    {
     "name": "stderr",
     "output_type": "stream",
     "text": [
      "C:\\Users\\angel\\anaconda3\\lib\\site-packages\\numpy\\lib\\function_base.py:380: RuntimeWarning: Mean of empty slice.\n",
      "  avg = a.mean(axis)\n",
      "C:\\Users\\angel\\anaconda3\\lib\\site-packages\\numpy\\core\\_methods.py:170: RuntimeWarning: invalid value encountered in double_scalars\n",
      "  ret = ret.dtype.type(ret / rcount)\n",
      "C:\\Users\\angel\\anaconda3\\lib\\site-packages\\numpy\\core\\_methods.py:233: RuntimeWarning: Degrees of freedom <= 0 for slice\n",
      "  ret = _var(a, axis=axis, dtype=dtype, out=out, ddof=ddof,\n",
      "C:\\Users\\angel\\anaconda3\\lib\\site-packages\\numpy\\core\\_methods.py:194: RuntimeWarning: invalid value encountered in true_divide\n",
      "  arrmean = um.true_divide(\n",
      "C:\\Users\\angel\\anaconda3\\lib\\site-packages\\numpy\\core\\_methods.py:226: RuntimeWarning: invalid value encountered in double_scalars\n",
      "  ret = ret.dtype.type(ret / rcount)\n"
     ]
    }
   ],
   "source": [
    "dcn_result = run_models(use_cross_layer=True, deep_layer_sizes=[50, 50])"
   ]
  },
  {
   "cell_type": "markdown",
   "metadata": {},
   "source": [
    "## Baseado em filtragem"
   ]
  },
  {
   "cell_type": "code",
   "execution_count": null,
   "metadata": {},
   "outputs": [],
   "source": [
    "import numpy as np\n",
    "import pandas as pd\n",
    "import tensorflow as tf\n",
    "import tensorflow_recommenders as tfrs"
   ]
  },
  {
   "cell_type": "code",
   "execution_count": null,
   "metadata": {},
   "outputs": [],
   "source": [
    "df = pd.read_csv('df_recomendacao.csv', index_col='Unnamed: 0')\n",
    "df.head()"
   ]
  },
  {
   "cell_type": "code",
   "execution_count": null,
   "metadata": {},
   "outputs": [],
   "source": [
    "pedidos = tf.data.Dataset.from_tensor_slices(\n",
    "    {\n",
    "        'PedidoProdutoId': tf.cast(df['PedidoProdutoId'], tf.int32),\n",
    "        'PedidoAtacadistaId': tf.cast(df['PedidoAtacadistaId'], tf.int32),\n",
    "        'AtacadistaCluster': tf.cast(df['AtacadistaCluster'], tf.int32),\n",
    "        'PedidoQuantidade': tf.cast(df['PedidoQuantidade'], tf.float32),\n",
    "    } \n",
    ")\n",
    "\n",
    "uniq_produto = df[['PedidoProdutoId', 'ProdutoCluster']].drop_duplicates().reset_index()\n",
    "produtos = tf.data.Dataset.from_tensor_slices(\n",
    "    {\n",
    "        'PedidoProdutoId': tf.cast(uniq_produto['PedidoProdutoId'], tf.int32),\n",
    "        'ProdutoCluster': tf.cast(uniq_produto['ProdutoCluster'], tf.int32)\n",
    "    }\n",
    ")"
   ]
  },
  {
   "cell_type": "code",
   "execution_count": null,
   "metadata": {},
   "outputs": [],
   "source": [
    "tf.random.set_seed(42)\n",
    "shuffled = pedidos.shuffle(100_000, seed=42, reshuffle_each_iteration=False)\n",
    "\n",
    "train = shuffled.take(80_000)\n",
    "test = shuffled.skip(80_000).take(20_000)"
   ]
  },
  {
   "cell_type": "code",
   "execution_count": null,
   "metadata": {},
   "outputs": [],
   "source": [
    "produtos_id = produtos.batch(100).map(lambda x: x['PedidoProdutoId'])\n",
    "atacadistas_id = pedidos.batch(1000).map(lambda x: x['PedidoAtacadistaId'])"
   ]
  },
  {
   "cell_type": "code",
   "execution_count": null,
   "metadata": {},
   "outputs": [],
   "source": [
    "unique_user_ids = np.unique(np.concatenate(list(atacadistas_id)))\n",
    "unique_produtos_id = np.unique(np.concatenate(list(produtos_id)))"
   ]
  },
  {
   "cell_type": "code",
   "execution_count": null,
   "metadata": {},
   "outputs": [],
   "source": [
    "embedding_dimension = 32"
   ]
  },
  {
   "cell_type": "code",
   "execution_count": null,
   "metadata": {},
   "outputs": [],
   "source": [
    "atacadista_model = tf.keras.Sequential([\n",
    "  tf.keras.layers.IntegerLookup(\n",
    "      vocabulary=unique_user_ids, mask_token=None),\n",
    "  tf.keras.layers.Embedding(len(unique_user_ids) + 1, embedding_dimension)\n",
    "])"
   ]
  },
  {
   "cell_type": "code",
   "execution_count": null,
   "metadata": {},
   "outputs": [],
   "source": [
    "produto_model = tf.keras.Sequential([\n",
    "  tf.keras.layers.IntegerLookup(\n",
    "      vocabulary=unique_produtos_id, mask_token=None),\n",
    "  tf.keras.layers.Embedding(len(unique_produtos_id) + 1, embedding_dimension)\n",
    "])"
   ]
  },
  {
   "cell_type": "code",
   "execution_count": null,
   "metadata": {},
   "outputs": [],
   "source": [
    "metrics = tfrs.metrics.FactorizedTopK(\n",
    "  candidates=produtos.batch(128).map(lambda x: x['PedidoProdutoId']).map(produto_model)\n",
    ")"
   ]
  },
  {
   "cell_type": "code",
   "execution_count": null,
   "metadata": {},
   "outputs": [],
   "source": [
    "task = tfrs.tasks.Retrieval(\n",
    "  metrics=metrics\n",
    ")"
   ]
  },
  {
   "cell_type": "code",
   "execution_count": null,
   "metadata": {},
   "outputs": [],
   "source": [
    "from typing import Dict, Text"
   ]
  },
  {
   "cell_type": "code",
   "execution_count": null,
   "metadata": {},
   "outputs": [],
   "source": [
    "class RecomendacaoModel(tfrs.Model):\n",
    "\n",
    "  def __init__(self, atacadista_model, produto_model):\n",
    "    super().__init__()\n",
    "    self.produto_model: tf.keras.Model = produto_model\n",
    "    self.atacadista_model: tf.keras.Model = atacadista_model\n",
    "    self.task: tf.keras.layers.Layer = task\n",
    "\n",
    "  def compute_loss(self, features: Dict[Text, tf.Tensor], training=False) -> tf.Tensor:\n",
    "    # We pick out the user features and pass them into the user model.\n",
    "    user_embeddings = self.atacadista_model(features[\"PedidoAtacadistaId\"])\n",
    "    # And pick out the movie features and pass them into the movie model,\n",
    "    # getting embeddings back.\n",
    "    positive_produto_embedding = self.produto_model(features[\"PedidoProdutoId\"])\n",
    "\n",
    "    # The task computes the loss and the metrics.\n",
    "    return self.task(user_embeddings, positive_produto_embedding)"
   ]
  },
  {
   "cell_type": "code",
   "execution_count": null,
   "metadata": {},
   "outputs": [],
   "source": [
    "model = RecomendacaoModel(atacadista_model, produto_model)\n",
    "model.compile(optimizer=tf.keras.optimizers.Adagrad(learning_rate=0.1))"
   ]
  },
  {
   "cell_type": "code",
   "execution_count": null,
   "metadata": {},
   "outputs": [],
   "source": [
    "cached_train = train.shuffle(100_000).batch(256).cache()\n",
    "cached_test = test.batch(256).cache()"
   ]
  },
  {
   "cell_type": "code",
   "execution_count": null,
   "metadata": {},
   "outputs": [],
   "source": [
    "model.fit(cached_train, epochs=5)"
   ]
  },
  {
   "cell_type": "code",
   "execution_count": null,
   "metadata": {},
   "outputs": [],
   "source": [
    "index = tfrs.layers.factorized_top_k.BruteForce(model.atacadista_model)\n",
    "# recommends movies out of the entire movies dataset.\n",
    "index.index_from_dataset(\n",
    "  tf.data.Dataset.zip((produtos.batch(100).map(lambda x: x['PedidoProdutoId']), produtos.batch(100).map(lambda x: x['PedidoProdutoId']).map(model.produto_model)))\n",
    ")\n",
    "\n",
    "# Get recommendations.\n",
    "_, titles = index(tf.constant([29606863]))\n",
    "print(f\"Recommendations for user 29606863: {titles[0, :3]}\")"
   ]
  },
  {
   "cell_type": "code",
   "execution_count": null,
   "metadata": {},
   "outputs": [],
   "source": []
  }
 ],
 "metadata": {
  "interpreter": {
   "hash": "2757f2c2fa6babad547f4a3642c7cf29f9f98149abb7990afbb40d637e41adc8"
  },
  "kernelspec": {
   "display_name": "Python 3.8.8 64-bit ('base': conda)",
   "name": "python3"
  },
  "language_info": {
   "codemirror_mode": {
    "name": "ipython",
    "version": 3
   },
   "file_extension": ".py",
   "mimetype": "text/x-python",
   "name": "python",
   "nbconvert_exporter": "python",
   "pygments_lexer": "ipython3",
   "version": "3.8.8"
  },
  "orig_nbformat": 4
 },
 "nbformat": 4,
 "nbformat_minor": 2
}
